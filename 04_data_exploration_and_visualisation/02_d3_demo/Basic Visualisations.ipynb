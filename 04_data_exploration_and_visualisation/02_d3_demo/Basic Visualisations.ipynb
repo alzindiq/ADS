{
 "cells": [
  {
   "cell_type": "code",
   "execution_count": null,
   "metadata": {
    "collapsed": false,
    "deletable": true,
    "editable": true
   },
   "outputs": [],
   "source": [
    "import pandas as pd\n",
    "import matplotlib.pyplot as plt\n",
    "\n",
    "%matplotlib inline"
   ]
  },
  {
   "cell_type": "markdown",
   "metadata": {
    "deletable": true,
    "editable": true
   },
   "source": [
    "## Import the data\n",
    "### See http://pbpython.com/web-scraping-mn-budget.html"
   ]
  },
  {
   "cell_type": "code",
   "execution_count": null,
   "metadata": {
    "collapsed": false,
    "deletable": true,
    "editable": true
   },
   "outputs": [],
   "source": [
    "df = pd.read_csv(\"mn-budget-detail-2014.csv\")\n",
    "df = df.sort_values('amount', ascending=False)\n",
    "df.head()"
   ]
  },
  {
   "cell_type": "markdown",
   "metadata": {
    "deletable": true,
    "editable": true
   },
   "source": [
    "## Basic plotting with pandas/matplotlib"
   ]
  },
  {
   "cell_type": "code",
   "execution_count": null,
   "metadata": {
    "collapsed": false,
    "deletable": true,
    "editable": true
   },
   "outputs": [],
   "source": [
    "sizes = df.groupby('category').size()\n",
    "sizes.plot(kind='bar', figsize=(15,10))"
   ]
  },
  {
   "cell_type": "markdown",
   "metadata": {
    "deletable": true,
    "editable": true
   },
   "source": [
    "## Nicer styling with seaborn"
   ]
  },
  {
   "cell_type": "code",
   "execution_count": null,
   "metadata": {
    "collapsed": false,
    "deletable": true,
    "editable": true
   },
   "outputs": [],
   "source": [
    "import seaborn as sns\n",
    "sns.set_style('white')"
   ]
  },
  {
   "cell_type": "code",
   "execution_count": null,
   "metadata": {
    "collapsed": false,
    "deletable": true,
    "editable": true
   },
   "outputs": [],
   "source": [
    "sizes.plot(kind='bar', figsize=(15,10))"
   ]
  },
  {
   "cell_type": "code",
   "execution_count": null,
   "metadata": {
    "collapsed": false,
    "deletable": true,
    "editable": true
   },
   "outputs": [],
   "source": [
    "sns.set_context('poster')\n",
    "bar_plot = sns.barplot(x=sizes.index.values, y=sizes.values, palette=\"muted\", order=sizes.index.values.tolist())\n",
    "plt.xticks(rotation=90)"
   ]
  },
  {
   "cell_type": "markdown",
   "metadata": {
    "collapsed": false,
    "deletable": true,
    "editable": true
   },
   "source": [
    "## ggplot"
   ]
  },
  {
   "cell_type": "code",
   "execution_count": null,
   "metadata": {
    "collapsed": true,
    "deletable": true,
    "editable": true
   },
   "outputs": [],
   "source": [
    "from ggplot import *"
   ]
  },
  {
   "cell_type": "code",
   "execution_count": null,
   "metadata": {
    "collapsed": false,
    "deletable": true,
    "editable": true
   },
   "outputs": [],
   "source": [
    "# dfs = sizes.to_frame(name='count').reset_index()\n",
    "# dfs['count'] = dfs['count'].astype(float)\n",
    "# print(dfs.columns)\n",
    "# print(dfs.index)\n",
    "# print(dfs.head())\n",
    "# print(dfs['category'].tolist())\n",
    "# print(dfs['count'])\n",
    "\n",
    "dfs = df.sort_values('amount',ascending=False)[:10]\n",
    "\n",
    "p = ggplot(dfs, aes(x=\"category\",y=\"amount\")) + \\\n",
    "    geom_bar(stat=\"bar\", labels=dfs[\"category\"].tolist()) +\\\n",
    "    ggtitle(\"MN Capital Budget - 2014\") + \\\n",
    "    xlab(\"Categories\") +  \\\n",
    "    ylab(\"Coutns\") + scale_y_continuous(labels='millions') + \\\n",
    "    theme(axis_text_x=element_text(angle=90))\n",
    "print p"
   ]
  },
  {
   "cell_type": "markdown",
   "metadata": {
    "collapsed": true,
    "deletable": true,
    "editable": true
   },
   "source": [
    "## Bokeh"
   ]
  },
  {
   "cell_type": "code",
   "execution_count": null,
   "metadata": {
    "collapsed": true
   },
   "outputs": [],
   "source": [
    "from bokeh.charts import Bar, show"
   ]
  },
  {
   "cell_type": "code",
   "execution_count": null,
   "metadata": {
    "collapsed": false
   },
   "outputs": [],
   "source": [
    "bar = Bar(sizes, filename=\"bar.html\", title=\"MN Capital Budget - 2014\", legend=False)\n",
    "show(bar)"
   ]
  },
  {
   "cell_type": "markdown",
   "metadata": {},
   "source": [
    "## pygal"
   ]
  },
  {
   "cell_type": "code",
   "execution_count": null,
   "metadata": {
    "collapsed": false
   },
   "outputs": [],
   "source": [
    "import pygal\n",
    "from pygal.style import LightStyle"
   ]
  },
  {
   "cell_type": "code",
   "execution_count": null,
   "metadata": {
    "collapsed": true
   },
   "outputs": [],
   "source": [
    "bar_chart = pygal.Bar(style=LightStyle, width=800, height=600,\n",
    "                      legend_at_bottom=True, human_readable=True,\n",
    "                      title='MN Capital Budget - 2014')"
   ]
  },
  {
   "cell_type": "code",
   "execution_count": null,
   "metadata": {
    "collapsed": false
   },
   "outputs": [],
   "source": [
    "for index, row in sizes.iteritems():\n",
    "    bar_chart.add(index, row)"
   ]
  },
  {
   "cell_type": "code",
   "execution_count": null,
   "metadata": {
    "collapsed": false
   },
   "outputs": [],
   "source": [
    "# bar_chart.render_to_file('budget.svg')\n",
    "# bar_chart.render_to_png('budget.png')\n",
    "bar_chart.render_in_browser()"
   ]
  },
  {
   "cell_type": "markdown",
   "metadata": {},
   "source": [
    "## Plotly"
   ]
  },
  {
   "cell_type": "code",
   "execution_count": null,
   "metadata": {
    "collapsed": true
   },
   "outputs": [],
   "source": [
    "import plotly.plotly as py\n",
    "from plotly.graph_objs import *"
   ]
  },
  {
   "cell_type": "code",
   "execution_count": null,
   "metadata": {
    "collapsed": true
   },
   "outputs": [],
   "source": [
    "data = Data([\n",
    "    Bar(\n",
    "        x=sizes.index,\n",
    "        y=sizes.values\n",
    "    )\n",
    "])"
   ]
  },
  {
   "cell_type": "code",
   "execution_count": null,
   "metadata": {
    "collapsed": true
   },
   "outputs": [],
   "source": [
    "layout = Layout(\n",
    "    title='2014 MN Capital Budget',\n",
    "    font=Font(\n",
    "        family='Raleway, sans-serif'\n",
    "    ),\n",
    "    showlegend=False,\n",
    "    xaxis=XAxis(\n",
    "        tickangle=-45\n",
    "    ),\n",
    "    bargap=0.05\n",
    ")\n",
    "\n",
    "fig = Figure(data=data, layout=layout)\n",
    "plot_url = py.plot(data,filename='MN Capital Budget - 2014')\n",
    "py.image.save_as(fig, 'mn-14-budget.png')"
   ]
  },
  {
   "cell_type": "code",
   "execution_count": null,
   "metadata": {
    "collapsed": true
   },
   "outputs": [],
   "source": []
  }
 ],
 "metadata": {
  "kernelspec": {
   "display_name": "Python 2",
   "language": "python",
   "name": "python2"
  },
  "language_info": {
   "codemirror_mode": {
    "name": "ipython",
    "version": 2
   },
   "file_extension": ".py",
   "mimetype": "text/x-python",
   "name": "python",
   "nbconvert_exporter": "python",
   "pygments_lexer": "ipython2",
   "version": "2.7.13"
  }
 },
 "nbformat": 4,
 "nbformat_minor": 0
}
