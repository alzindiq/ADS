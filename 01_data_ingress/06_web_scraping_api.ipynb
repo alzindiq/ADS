{
 "cells": [
  {
   "cell_type": "markdown",
   "metadata": {},
   "source": [
    "# The Guardian API\n",
    "\n",
    "In the `beautiful_soup.ipynb` notebook, I showed how BeautifulSoup can be used \n",
    "to parse messy HTML, tp extract information, and to act as a rudimentary web crawler. \n",
    "I used The Guardian as an illustrative example about how this can be achieved. \n",
    "The reason for choosing The Guardian was because they provide a REST API to their servers. \n",
    "With theise it is possible to perform specific queries on their servers, and to receive \n",
    "current information from their servers according to their API guide (ie in JSON)\n",
    "\n",
    "http://open-platform.theguardian.com/\n",
    "\n",
    "In order to use their API, you will need to register for an API key. \n",
    "At the time of writing (Feb 1, 2017) this was an automated process that can be completed at \n",
    "\n",
    "http://open-platform.theguardian.com/access/\n",
    "\n",
    "The API is documented here: \n",
    "\n",
    "http://open-platform.theguardian.com/documentation/\n",
    "\n",
    "and Python bindings to their API are provided by The Guardian here\n",
    "\n",
    "https://github.com/prabhath6/theguardian-api-python\n",
    "\n",
    "and these can easily be integrated into a web-crawler based on API calls, rather than being based \n",
    "on HTML parsing, etc. \n",
    "\n",
    "We use four parameters in our queries here: \n",
    "\n",
    "1. `section`: the section of the newspaper that we are interested in querying. In this case I'm lookin in \n",
    "the technology section \n",
    "\n",
    "2. `order-by`: I have specifie that the newest items should be closer to the front of the query list \n",
    "\n",
    "3. `api-key`: I have left this as test (which works here), but for *real* deployment of such a spider\n",
    "a real API key should be specified \n",
    "\n",
    "4. `page-size`: The number of results to return. "
   ]
  },
  {
   "cell_type": "code",
   "execution_count": 1,
   "metadata": {},
   "outputs": [],
   "source": [
    "from __future__ import print_function\n",
    "\n",
    "import requests \n",
    "import json "
   ]
  },
  {
   "cell_type": "markdown",
   "metadata": {},
   "source": [
    "# Inspect all sections and search for technology-based sections"
   ]
  },
  {
   "cell_type": "code",
   "execution_count": 2,
   "metadata": {},
   "outputs": [],
   "source": [
    "url = 'https://content.guardianapis.com/sections?api-key=test'\n",
    "req = requests.get(url)\n",
    "src = req.text "
   ]
  },
  {
   "cell_type": "code",
   "execution_count": 4,
   "metadata": {
    "scrolled": true
   },
   "outputs": [
    {
     "data": {
      "text/plain": [
       "'{\"response\":{\"status\":\"ok\",\"userTier\":\"developer\",\"total\":73,\"results\":[{\"id\":\"about\",\"webTitle\":\"About\",\"webUrl\":\"https://www.theguardian.com/about\",\"apiUrl\":\"https://content.guardianapis.com/about\",\"editions\":[{\"id\":\"about\",\"webTitle\":\"About\",\"webUrl\":\"https://www.theguardian.com/about\",\"apiUrl\":\"https://content.guardianapis.com/about\",\"code\":\"default\"}]},{\"id\":\"artanddesign\",\"webTitle\":\"Art and design\",\"webUrl\":\"https://www.theguardian.com/artanddesign\",\"apiUrl\":\"https://content.guardianapis.com/artanddesign\",\"editions\":[{\"id\":\"artanddesign\",\"webTitle\":\"Art and design\",\"webUrl\":\"https://www.theguardian.com/artanddesign\",\"apiUrl\":\"https://content.guardianapis.com/artanddesign\",\"code\":\"default\"}]},{\"id\":\"australia-news\",\"webTitle\":\"Australia news\",\"webUrl\":\"https://www.theguardian.com/australia-news\",\"apiUrl\":\"https://content.guardianapis.com/australia-news\",\"editions\":[{\"id\":\"australia-news\",\"webTitle\":\"Australia news\",\"webUrl\":\"https://www.theguardian.com/australia-news\",\"apiUrl\":\"https://content.guardianapis.com/australia-news\",\"code\":\"default\"}]},{\"id\":\"better-business\",\"webTitle\":\"Better Business\",\"webUrl\":\"https://www.theguardian.com/better-business\",\"apiUrl\":\"https://content.guardianapis.com/better-business\",\"editions\":[{\"id\":\"better-business\",\"webTitle\":\"Better Business\",\"webUrl\":\"https://www.theguardian.com/better-business\",\"apiUrl\":\"https://content.guardianapis.com/better-business\",\"code\":\"default\"}]},{\"id\":\"books\",\"webTitle\":\"Books\",\"webUrl\":\"https://www.theguardian.com/books\",\"apiUrl\":\"https://content.guardianapis.com/books\",\"editions\":[{\"id\":\"books\",\"webTitle\":\"Books\",\"webUrl\":\"https://www.theguardian.com/books\",\"apiUrl\":\"https://content.guardianapis.com/books\",\"code\":\"default\"}]},{\"id\":\"business\",\"webTitle\":\"Business\",\"webUrl\":\"https://www.theguardian.com/business\",\"apiUrl\":\"https://content.guardianapis.com/business\",\"editions\":[{\"id\":\"business\",\"webTitle\":\"Business\",\"webUrl\":\"https://www.theguardian.com/business\",\"apiUrl\":\"https://content.guardianapis.com/business\",\"code\":\"default\"},{\"id\":\"uk/business\",\"webTitle\":\"Business\",\"webUrl\":\"https://www.theguardian.com/uk/business\",\"apiUrl\":\"https://content.guardianapis.com/uk/business\",\"code\":\"uk\"},{\"id\":\"us/business\",\"webTitle\":\"Business\",\"webUrl\":\"https://www.theguardian.com/us/business\",\"apiUrl\":\"https://content.guardianapis.com/us/business\",\"code\":\"us\"},{\"id\":\"au/business\",\"webTitle\":\"Business\",\"webUrl\":\"https://www.theguardian.com/au/business\",\"apiUrl\":\"https://content.guardianapis.com/au/business\",\"code\":\"au\"}]},{\"id\":\"business-to-business\",\"webTitle\":\"Business to business\",\"webUrl\":\"https://www.theguardian.com/business-to-business\",\"apiUrl\":\"https://content.guardianapis.com/business-to-business\",\"editions\":[{\"id\":\"business-to-business\",\"webTitle\":\"Business to business\",\"webUrl\":\"https://www.theguardian.com/business-to-business\",\"apiUrl\":\"https://content.guardianapis.com/business-to-business\",\"code\":\"default\"},{\"id\":\"au/business-to-business\",\"webTitle\":\"Business to business\",\"webUrl\":\"https://www.theguardian.com/au/business-to-business\",\"apiUrl\":\"https://content.guardianapis.com/au/business-to-business\",\"code\":\"au\"},{\"id\":\"uk/business-to-business\",\"webTitle\":\"Business to business\",\"webUrl\":\"https://www.theguardian.com/uk/business-to-business\",\"apiUrl\":\"https://content.guardianapis.com/uk/business-to-business\",\"code\":\"uk\"},{\"id\":\"us/business-to-business\",\"webTitle\":\"Business to business\",\"webUrl\":\"https://www.theguardian.com/us/business-to-business\",\"apiUrl\":\"https://content.guardianapis.com/us/business-to-business\",\"code\":\"us\"}]},{\"id\":\"cardiff\",\"webTitle\":\"Cardiff\",\"webUrl\":\"https://www.theguardian.com/cardiff\",\"apiUrl\":\"https://content.guardianapis.com/cardiff\",\"editions\":[{\"id\":\"cardiff\",\"webTitle\":\"Cardiff\",\"webUrl\":\"https://www.theguardian.com/cardiff\",\"apiUrl\":\"https://content.guardianapis.com/cardiff\",\"code\":\"default\"}]},{\"id\":\"childrens-books-site\",\"webTitle\":\"Children\\'s books\",\"webUrl\":\"https://www.theguardian.com/childrens-books-site\",\"apiUrl\":\"https://content.guardianapis.com/childrens-books-site\",\"editions\":[{\"id\":\"childrens-books-site\",\"webTitle\":\"Children\\'s books\",\"webUrl\":\"https://www.theguardian.com/childrens-books-site\",\"apiUrl\":\"https://content.guardianapis.com/childrens-books-site\",\"code\":\"default\"}]},{\"id\":\"cities\",\"webTitle\":\"Cities\",\"webUrl\":\"https://www.theguardian.com/cities\",\"apiUrl\":\"https://content.guardianapis.com/cities\",\"editions\":[{\"id\":\"cities\",\"webTitle\":\"Cities\",\"webUrl\":\"https://www.theguardian.com/cities\",\"apiUrl\":\"https://content.guardianapis.com/cities\",\"code\":\"default\"}],\"activeSponsorships\":[{\"sponsorshipType\":\"foundation\",\"sponsorName\":\"Rockefeller Foundation\",\"sponsorLogo\":\"https://static.theguardian.com/commercial/sponsor/cities/cities/logo.png\",\"sponsorLink\":\"http://www.100resilientcities.org/?source=100RC_Guardian_Banner_9.22&utm_medium=display&utm_campaign=100RC_Guardian_Banner_9.22\",\"aboutLink\":\"https://www.theguardian.com/info/2016/jan/25/content-funding\",\"sponsorLogoDimensions\":{\"width\":140,\"height\":37},\"highContrastSponsorLogo\":\"https://static.theguardian.com/commercial/sponsor/19/Oct/2016/4369caea-6271-4ddf-ad67-dcedb4a87cad-Rock_white.png\",\"highContrastSponsorLogoDimensions\":{\"width\":140,\"height\":47},\"validFrom\":\"2015-05-26T16:32:00Z\",\"validTo\":\"2025-06-01T03:59:00Z\"}]},{\"id\":\"commentisfree\",\"webTitle\":\"Opinion\",\"webUrl\":\"https://www.theguardian.com/commentisfree\",\"apiUrl\":\"https://content.guardianapis.com/commentisfree\",\"editions\":[{\"id\":\"commentisfree\",\"webTitle\":\"Opinion\",\"webUrl\":\"https://www.theguardian.com/commentisfree\",\"apiUrl\":\"https://content.guardianapis.com/commentisfree\",\"code\":\"default\"},{\"id\":\"au/commentisfree\",\"webTitle\":\"Opinion\",\"webUrl\":\"https://www.theguardian.com/au/commentisfree\",\"apiUrl\":\"https://content.guardianapis.com/au/commentisfree\",\"code\":\"au\"},{\"id\":\"uk/commentisfree\",\"webTitle\":\"Opinion\",\"webUrl\":\"https://www.theguardian.com/uk/commentisfree\",\"apiUrl\":\"https://content.guardianapis.com/uk/commentisfree\",\"code\":\"uk\"},{\"id\":\"us/commentisfree\",\"webTitle\":\"Opinion\",\"webUrl\":\"https://www.theguardian.com/us/commentisfree\",\"apiUrl\":\"https://content.guardianapis.com/us/commentisfree\",\"code\":\"us\"}]},{\"id\":\"community\",\"webTitle\":\"Community\",\"webUrl\":\"https://www.theguardian.com/community\",\"apiUrl\":\"https://content.guardianapis.com/community\",\"editions\":[{\"id\":\"community\",\"webTitle\":\"Community\",\"webUrl\":\"https://www.theguardian.com/community\",\"apiUrl\":\"https://content.guardianapis.com/community\",\"code\":\"default\"}]},{\"id\":\"crosswords\",\"webTitle\":\"Crosswords\",\"webUrl\":\"https://www.theguardian.com/crosswords\",\"apiUrl\":\"https://content.guardianapis.com/crosswords\",\"editions\":[{\"id\":\"crosswords\",\"webTitle\":\"Crosswords\",\"webUrl\":\"https://www.theguardian.com/crosswords\",\"apiUrl\":\"https://content.guardianapis.com/crosswords\",\"code\":\"default\"}]},{\"id\":\"culture\",\"webTitle\":\"Culture\",\"webUrl\":\"https://www.theguardian.com/culture\",\"apiUrl\":\"https://content.guardianapis.com/culture\",\"editions\":[{\"id\":\"culture\",\"webTitle\":\"Culture\",\"webUrl\":\"https://www.theguardian.com/culture\",\"apiUrl\":\"https://content.guardianapis.com/culture\",\"code\":\"default\"},{\"id\":\"au/culture\",\"webTitle\":\"Culture\",\"webUrl\":\"https://www.theguardian.com/au/culture\",\"apiUrl\":\"https://content.guardianapis.com/au/culture\",\"code\":\"au\"},{\"id\":\"uk/culture\",\"webTitle\":\"Culture\",\"webUrl\":\"https://www.theguardian.com/uk/culture\",\"apiUrl\":\"https://content.guardianapis.com/uk/culture\",\"code\":\"uk\"},{\"id\":\"us/culture\",\"webTitle\":\"Culture\",\"webUrl\":\"https://www.theguardian.com/us/culture\",\"apiUrl\":\"https://content.guardianapis.com/us/culture\",\"code\":\"us\"}]},{\"id\":\"culture-network\",\"webTitle\":\"Culture Network\",\"webUrl\":\"https://www.theguardian.com/culture-network\",\"apiUrl\":\"https://content.guardianapis.com/culture-network\",\"editions\":[{\"id\":\"culture-network\",\"webTitle\":\"Culture Network\",\"webUrl\":\"https://www.theguardian.com/culture-network\",\"apiUrl\":\"https://content.guardianapis.com/culture-network\",\"code\":\"default\"}]},{\"id\":\"culture-professionals-network\",\"webTitle\":\"Culture professionals network\",\"webUrl\":\"https://www.theguardian.com/culture-professionals-network\",\"apiUrl\":\"https://content.guardianapis.com/culture-professionals-network\",\"editions\":[{\"id\":\"culture-professionals-network\",\"webTitle\":\"Culture professionals network\",\"webUrl\":\"https://www.theguardian.com/culture-professionals-network\",\"apiUrl\":\"https://content.guardianapis.com/culture-professionals-network\",\"code\":\"default\"}]},{\"id\":\"edinburgh\",\"webTitle\":\"Edinburgh\",\"webUrl\":\"https://www.theguardian.com/edinburgh\",\"apiUrl\":\"https://content.guardianapis.com/edinburgh\",\"editions\":[{\"id\":\"edinburgh\",\"webTitle\":\"Edinburgh\",\"webUrl\":\"https://www.theguardian.com/edinburgh\",\"apiUrl\":\"https://content.guardianapis.com/edinburgh\",\"code\":\"default\"}]},{\"id\":\"education\",\"webTitle\":\"Education\",\"webUrl\":\"https://www.theguardian.com/education\",\"apiUrl\":\"https://content.guardianapis.com/education\",\"editions\":[{\"id\":\"education\",\"webTitle\":\"Education\",\"webUrl\":\"https://www.theguardian.com/education\",\"apiUrl\":\"https://content.guardianapis.com/education\",\"code\":\"default\"}]},{\"id\":\"enterprise-network\",\"webTitle\":\"Guardian Enterprise Network\",\"webUrl\":\"https://www.theguardian.com/enterprise-network\",\"apiUrl\":\"https://content.guardianapis.com/enterprise-network\",\"editions\":[{\"id\":\"enterprise-network\",\"webTitle\":\"Guardian Enterprise Network\",\"webUrl\":\"https://www.theguardian.com/enterprise-network\",\"apiUrl\":\"https://content.guardianapis.com/enterprise-network\",\"code\":\"default\"}]},{\"id\":\"environment\",\"webTitle\":\"Environment\",\"webUrl\":\"https://www.theguardian.com/environment\",\"apiUrl\":\"https://content.guardianapis.com/environment\",\"editions\":[{\"id\":\"environment\",\"webTitle\":\"Environment\",\"webUrl\":\"https://www.theguardian.com/environment\",\"apiUrl\":\"https://content.guardianapis.com/environment\",\"code\":\"default\"},{\"id\":\"au/environment\",\"webTitle\":\"Environment\",\"webUrl\":\"https://www.theguardian.com/au/environment\",\"apiUrl\":\"https://content.guardianapis.com/au/environment\",\"code\":\"au\"},{\"id\":\"uk/environment\",\"webTitle\":\"Environment\",\"webUrl\":\"https://www.theguardian.com/uk/environment\",\"apiUrl\":\"https://content.guardianapis.com/uk/environment\",\"code\":\"uk\"},{\"id\":\"us/environment\",\"webTitle\":\"Environment\",\"webUrl\":\"https://www.theguardian.com/us/environment\",\"apiUrl\":\"https://content.guardianapis.com/us/environment\",\"code\":\"us\"}]},{\"id\":\"extra\",\"webTitle\":\"Extra\",\"webUrl\":\"https://www.theguardian.com/extra\",\"apiUrl\":\"https://content.guardianapis.com/extra\",\"editions\":[{\"id\":\"extra\",\"webTitle\":\"Extra\",\"webUrl\":\"https://www.theguardian.com/extra\",\"apiUrl\":\"https://content.guardianapis.com/extra\",\"code\":\"default\"}]},{\"id\":\"fashion\",\"webTitle\":\"Fashion\",\"webUrl\":\"https://www.theguardian.com/fashion\",\"apiUrl\":\"https://content.guardianapis.com/fashion\",\"editions\":[{\"id\":\"fashion\",\"webTitle\":\"Fashion\",\"webUrl\":\"https://www.theguardian.com/fashion\",\"apiUrl\":\"https://content.guardianapis.com/fashion\",\"code\":\"default\"}]},{\"id\":\"film\",\"webTitle\":\"Film\",\"webUrl\":\"https://www.theguardian.com/film\",\"apiUrl\":\"https://content.guardianapis.com/film\",\"editions\":[{\"id\":\"film\",\"webTitle\":\"Film\",\"webUrl\":\"https://www.theguardian.com/film\",\"apiUrl\":\"https://content.guardianapis.com/film\",\"code\":\"default\"},{\"id\":\"au/film\",\"webTitle\":\"Film\",\"webUrl\":\"https://www.theguardian.com/au/film\",\"apiUrl\":\"https://content.guardianapis.com/au/film\",\"code\":\"au\"},{\"id\":\"uk/film\",\"webTitle\":\"Film\",\"webUrl\":\"https://www.theguardian.com/uk/film\",\"apiUrl\":\"https://content.guardianapis.com/uk/film\",\"code\":\"uk\"},{\"id\":\"us/film\",\"webTitle\":\"Film\",\"webUrl\":\"https://www.theguardian.com/us/film\",\"apiUrl\":\"https://content.guardianapis.com/us/film\",\"code\":\"us\"}]},{\"id\":\"football\",\"webTitle\":\"Football\",\"webUrl\":\"https://www.theguardian.com/football\",\"apiUrl\":\"https://content.guardianapis.com/football\",\"editions\":[{\"id\":\"football\",\"webTitle\":\"Football\",\"webUrl\":\"https://www.theguardian.com/football\",\"apiUrl\":\"https://content.guardianapis.com/football\",\"code\":\"default\"}]},{\"id\":\"games\",\"webTitle\":\"Games\",\"webUrl\":\"https://www.theguardian.com/games\",\"apiUrl\":\"https://content.guardianapis.com/games\",\"editions\":[{\"id\":\"games\",\"webTitle\":\"Games\",\"webUrl\":\"https://www.theguardian.com/games\",\"apiUrl\":\"https://content.guardianapis.com/games\",\"code\":\"default\"}]},{\"id\":\"global-development\",\"webTitle\":\"Global development\",\"webUrl\":\"https://www.theguardian.com/global-development\",\"apiUrl\":\"https://content.guardianapis.com/global-development\",\"editions\":[{\"id\":\"global-development\",\"webTitle\":\"Global development\",\"webUrl\":\"https://www.theguardian.com/global-development\",\"apiUrl\":\"https://content.guardianapis.com/global-development\",\"code\":\"default\"}],\"activeSponsorships\":[{\"sponsorshipType\":\"foundation\",\"sponsorName\":\"Bill and Melinda Gates Foundation\",\"sponsorLogo\":\"https://static.theguardian.com/commercial/sponsor/global-development/global-development/logo.png\",\"sponsorLink\":\"http://www.gatesfoundation.org/\",\"aboutLink\":\"http://www.theguardian.com/global-development/2010/sep/14/about-this-site\",\"sponsorLogoDimensions\":{\"width\":140,\"height\":29},\"validFrom\":\"2014-09-03T15:01:00Z\",\"validTo\":\"2024-11-01T03:59:00Z\"}]},{\"id\":\"global-development-professionals-network\",\"webTitle\":\"Global Development Professionals Network\",\"webUrl\":\"https://www.theguardian.com/global-development-professionals-network\",\"apiUrl\":\"https://content.guardianapis.com/global-development-professionals-network\",\"editions\":[{\"id\":\"global-development-professionals-network\",\"webTitle\":\"Global Development Professionals Network\",\"webUrl\":\"https://www.theguardian.com/global-development-professionals-network\",\"apiUrl\":\"https://content.guardianapis.com/global-development-professionals-network\",\"code\":\"default\"}]},{\"id\":\"government-computing-network\",\"webTitle\":\"Guardian Government Computing\",\"webUrl\":\"https://www.theguardian.com/government-computing-network\",\"apiUrl\":\"https://content.guardianapis.com/government-computing-network\",\"editions\":[{\"id\":\"government-computing-network\",\"webTitle\":\"Guardian Government Computing\",\"webUrl\":\"https://www.theguardian.com/government-computing-network\",\"apiUrl\":\"https://content.guardianapis.com/government-computing-network\",\"code\":\"default\"}]},{\"id\":\"guardian-professional\",\"webTitle\":\"Guardian Professional\",\"webUrl\":\"https://www.theguardian.com/guardian-professional\",\"apiUrl\":\"https://content.guardianapis.com/guardian-professional\",\"editions\":[{\"id\":\"guardian-professional\",\"webTitle\":\"Guardian Professional\",\"webUrl\":\"https://www.theguardian.com/guardian-professional\",\"apiUrl\":\"https://content.guardianapis.com/guardian-professional\",\"code\":\"default\"}]},{\"id\":\"healthcare-network\",\"webTitle\":\"Healthcare Professionals Network\",\"webUrl\":\"https://www.theguardian.com/healthcare-network\",\"apiUrl\":\"https://content.guardianapis.com/healthcare-network\",\"editions\":[{\"id\":\"healthcare-network\",\"webTitle\":\"Healthcare Professionals Network\",\"webUrl\":\"https://www.theguardian.com/healthcare-network\",\"apiUrl\":\"https://content.guardianapis.com/healthcare-network\",\"code\":\"default\"}]},{\"id\":\"help\",\"webTitle\":\"Help\",\"webUrl\":\"https://www.theguardian.com/help\",\"apiUrl\":\"https://content.guardianapis.com/help\",\"editions\":[{\"id\":\"help\",\"webTitle\":\"Help\",\"webUrl\":\"https://www.theguardian.com/help\",\"apiUrl\":\"https://content.guardianapis.com/help\",\"code\":\"default\"}]},{\"id\":\"higher-education-network\",\"webTitle\":\"Higher Education Network\",\"webUrl\":\"https://www.theguardian.com/higher-education-network\",\"apiUrl\":\"https://content.guardianapis.com/higher-education-network\",\"editions\":[{\"id\":\"higher-education-network\",\"webTitle\":\"Higher Education Network\",\"webUrl\":\"https://www.theguardian.com/higher-education-network\",\"apiUrl\":\"https://content.guardianapis.com/higher-education-network\",\"code\":\"default\"}]},{\"id\":\"housing-network\",\"webTitle\":\"Housing Network\",\"webUrl\":\"https://www.theguardian.com/housing-network\",\"apiUrl\":\"https://content.guardianapis.com/housing-network\",\"editions\":[{\"id\":\"housing-network\",\"webTitle\":\"Housing Network\",\"webUrl\":\"https://www.theguardian.com/housing-network\",\"apiUrl\":\"https://content.guardianapis.com/housing-network\",\"code\":\"default\"}]},{\"id\":\"inequality\",\"webTitle\":\"Inequality\",\"webUrl\":\"https://www.theguardian.com/inequality\",\"apiUrl\":\"https://content.guardianapis.com/inequality\",\"editions\":[{\"id\":\"inequality\",\"webTitle\":\"Inequality\",\"webUrl\":\"https://www.theguardian.com/inequality\",\"apiUrl\":\"https://content.guardianapis.com/inequality\",\"code\":\"default\"}],\"activeSponsorships\":[{\"sponsorshipType\":\"foundation\",\"sponsorName\":\"Ford Foundation\",\"sponsorLogo\":\"https://static.theguardian.com/commercial/sponsor/20/Apr/2017/6501f18d-6803-4540-88e8-b3187bbf195a-F_F_Logo_Stacked_FullColor.png\",\"sponsorLink\":\"https://www.fordfoundation.org/\",\"targeting\":{\"publishedSince\":\"2017-04-20T13:29:18Z\"},\"aboutLink\":\"https://www.theguardian.com/inequality/2017/apr/25/inequality-project-guardian-in-depth-look-unequal-world-equality\",\"sponsorLogoDimensions\":{\"width\":140,\"height\":90},\"highContrastSponsorLogo\":\"https://static.theguardian.com/commercial/sponsor/20/Apr/2017/4a2e1713-3374-4556-99ce-ac9cf8bdc450-F_F_Logo_Stacked_White.png\",\"highContrastSponsorLogoDimensions\":{\"width\":140,\"height\":90},\"validFrom\":\"2017-04-20T13:00:00Z\"}]},{\"id\":\"info\",\"webTitle\":\"Info\",\"webUrl\":\"https://www.theguardian.com/info\",\"apiUrl\":\"https://content.guardianapis.com/info\",\"editions\":[{\"id\":\"info\",\"webTitle\":\"Info\",\"webUrl\":\"https://www.theguardian.com/info\",\"apiUrl\":\"https://content.guardianapis.com/info\",\"code\":\"default\"}]},{\"id\":\"jobsadvice\",\"webTitle\":\"Jobs\",\"webUrl\":\"https://www.theguardian.com/jobsadvice\",\"apiUrl\":\"https://content.guardianapis.com/jobsadvice\",\"editions\":[{\"id\":\"jobsadvice\",\"webTitle\":\"Jobs\",\"webUrl\":\"https://www.theguardian.com/jobsadvice\",\"apiUrl\":\"https://content.guardianapis.com/jobsadvice\",\"code\":\"default\"}]},{\"id\":\"katine\",\"webTitle\":\"Katine\",\"webUrl\":\"https://www.theguardian.com/katine\",\"apiUrl\":\"https://content.guardianapis.com/katine\",\"editions\":[{\"id\":\"katine\",\"webTitle\":\"Katine\",\"webUrl\":\"https://www.theguardian.com/katine\",\"apiUrl\":\"https://content.guardianapis.com/katine\",\"code\":\"default\"}]},{\"id\":\"law\",\"webTitle\":\"Law\",\"webUrl\":\"https://www.theguardian.com/law\",\"apiUrl\":\"https://content.guardianapis.com/law\",\"editions\":[{\"id\":\"law\",\"webTitle\":\"Law\",\"webUrl\":\"https://www.theguardian.com/law\",\"apiUrl\":\"https://content.guardianapis.com/law\",\"code\":\"default\"}]},{\"id\":\"leeds\",\"webTitle\":\"Leeds\",\"webUrl\":\"https://www.theguardian.com/leeds\",\"apiUrl\":\"https://content.guardianapis.com/leeds\",\"editions\":[{\"id\":\"leeds\",\"webTitle\":\"Leeds\",\"webUrl\":\"https://www.theguardian.com/leeds\",\"apiUrl\":\"https://content.guardianapis.com/leeds\",\"code\":\"default\"}]},{\"id\":\"lifeandstyle\",\"webTitle\":\"Life and style\",\"webUrl\":\"https://www.theguardian.com/lifeandstyle\",\"apiUrl\":\"https://content.guardianapis.com/lifeandstyle\",\"editions\":[{\"id\":\"lifeandstyle\",\"webTitle\":\"Life and style\",\"webUrl\":\"https://www.theguardian.com/lifeandstyle\",\"apiUrl\":\"https://content.guardianapis.com/lifeandstyle\",\"code\":\"default\"},{\"id\":\"au/lifeandstyle\",\"webTitle\":\"Life and style\",\"webUrl\":\"https://www.theguardian.com/au/lifeandstyle\",\"apiUrl\":\"https://content.guardianapis.com/au/lifeandstyle\",\"code\":\"au\"},{\"id\":\"uk/lifeandstyle\",\"webTitle\":\"Life and style\",\"webUrl\":\"https://www.theguardian.com/uk/lifeandstyle\",\"apiUrl\":\"https://content.guardianapis.com/uk/lifeandstyle\",\"code\":\"uk\"},{\"id\":\"us/lifeandstyle\",\"webTitle\":\"Life and style\",\"webUrl\":\"https://www.theguardian.com/us/lifeandstyle\",\"apiUrl\":\"https://content.guardianapis.com/us/lifeandstyle\",\"code\":\"us\"}]},{\"id\":\"local\",\"webTitle\":\"Local\",\"webUrl\":\"https://www.theguardian.com/local\",\"apiUrl\":\"https://content.guardianapis.com/local\",\"editions\":[{\"id\":\"local\",\"webTitle\":\"Local\",\"webUrl\":\"https://www.theguardian.com/local\",\"apiUrl\":\"https://content.guardianapis.com/local\",\"code\":\"default\"}]},{\"id\":\"local-government-network\",\"webTitle\":\"Local Leaders Network\",\"webUrl\":\"https://www.theguardian.com/local-government-network\",\"apiUrl\":\"https://content.guardianapis.com/local-government-network\",\"editions\":[{\"id\":\"local-government-network\",\"webTitle\":\"Local Leaders Network\",\"webUrl\":\"https://www.theguardian.com/local-government-network\",\"apiUrl\":\"https://content.guardianapis.com/local-government-network\",\"code\":\"default\"}]},{\"id\":\"media\",\"webTitle\":\"Media\",\"webUrl\":\"https://www.theguardian.com/media\",\"apiUrl\":\"https://content.guardianapis.com/media\",\"editions\":[{\"id\":\"media\",\"webTitle\":\"Media\",\"webUrl\":\"https://www.theguardian.com/media\",\"apiUrl\":\"https://content.guardianapis.com/media\",\"code\":\"default\"},{\"id\":\"au/media\",\"webTitle\":\"Media\",\"webUrl\":\"https://www.theguardian.com/au/media\",\"apiUrl\":\"https://content.guardianapis.com/au/media\",\"code\":\"au\"},{\"id\":\"uk/media\",\"webTitle\":\"Media\",\"webUrl\":\"https://www.theguardian.com/uk/media\",\"apiUrl\":\"https://content.guardianapis.com/uk/media\",\"code\":\"uk\"},{\"id\":\"us/media\",\"webTitle\":\"Media\",\"webUrl\":\"https://www.theguardian.com/us/media\",\"apiUrl\":\"https://content.guardianapis.com/us/media\",\"code\":\"us\"}]},{\"id\":\"media-network\",\"webTitle\":\"Media Network\",\"webUrl\":\"https://www.theguardian.com/media-network\",\"apiUrl\":\"https://content.guardianapis.com/media-network\",\"editions\":[{\"id\":\"media-network\",\"webTitle\":\"Media Network\",\"webUrl\":\"https://www.theguardian.com/media-network\",\"apiUrl\":\"https://content.guardianapis.com/media-network\",\"code\":\"default\"}]},{\"id\":\"membership\",\"webTitle\":\"Membership\",\"webUrl\":\"https://www.theguardian.com/membership\",\"apiUrl\":\"https://content.guardianapis.com/membership\",\"editions\":[{\"id\":\"membership\",\"webTitle\":\"Membership\",\"webUrl\":\"https://www.theguardian.com/membership\",\"apiUrl\":\"https://content.guardianapis.com/membership\",\"code\":\"default\"}]},{\"id\":\"money\",\"webTitle\":\"Money\",\"webUrl\":\"https://www.theguardian.com/money\",\"apiUrl\":\"https://content.guardianapis.com/money\",\"editions\":[{\"id\":\"money\",\"webTitle\":\"Money\",\"webUrl\":\"https://www.theguardian.com/money\",\"apiUrl\":\"https://content.guardianapis.com/money\",\"code\":\"default\"},{\"id\":\"uk/money\",\"webTitle\":\"Money\",\"webUrl\":\"https://www.theguardian.com/uk/money\",\"apiUrl\":\"https://content.guardianapis.com/uk/money\",\"code\":\"uk\"},{\"id\":\"us/money\",\"webTitle\":\"Money\",\"webUrl\":\"https://www.theguardian.com/us/money\",\"apiUrl\":\"https://content.guardianapis.com/us/money\",\"code\":\"us\"},{\"id\":\"au/money\",\"webTitle\":\"Money\",\"webUrl\":\"https://www.theguardian.com/au/money\",\"apiUrl\":\"https://content.guardianapis.com/au/money\",\"code\":\"au\"}]},{\"id\":\"music\",\"webTitle\":\"Music\",\"webUrl\":\"https://www.theguardian.com/music\",\"apiUrl\":\"https://content.guardianapis.com/music\",\"editions\":[{\"id\":\"music\",\"webTitle\":\"Music\",\"webUrl\":\"https://www.theguardian.com/music\",\"apiUrl\":\"https://content.guardianapis.com/music\",\"code\":\"default\"}]},{\"id\":\"news\",\"webTitle\":\"News\",\"webUrl\":\"https://www.theguardian.com/news\",\"apiUrl\":\"https://content.guardianapis.com/news\",\"editions\":[{\"id\":\"news\",\"webTitle\":\"News\",\"webUrl\":\"https://www.theguardian.com/news\",\"apiUrl\":\"https://content.guardianapis.com/news\",\"code\":\"default\"}]},{\"id\":\"politics\",\"webTitle\":\"Politics\",\"webUrl\":\"https://www.theguardian.com/politics\",\"apiUrl\":\"https://content.guardianapis.com/politics\",\"editions\":[{\"id\":\"politics\",\"webTitle\":\"Politics\",\"webUrl\":\"https://www.theguardian.com/politics\",\"apiUrl\":\"https://content.guardianapis.com/politics\",\"code\":\"default\"}]},{\"id\":\"public-leaders-network\",\"webTitle\":\"Public Leaders Network\",\"webUrl\":\"https://www.theguardian.com/public-leaders-network\",\"apiUrl\":\"https://content.guardianapis.com/public-leaders-network\",\"editions\":[{\"id\":\"public-leaders-network\",\"webTitle\":\"Public Leaders Network\",\"webUrl\":\"https://www.theguardian.com/public-leaders-network\",\"apiUrl\":\"https://content.guardianapis.com/public-leaders-network\",\"code\":\"default\"}]},{\"id\":\"science\",\"webTitle\":\"Science\",\"webUrl\":\"https://www.theguardian.com/science\",\"apiUrl\":\"https://content.guardianapis.com/science\",\"editions\":[{\"id\":\"science\",\"webTitle\":\"Science\",\"webUrl\":\"https://www.theguardian.com/science\",\"apiUrl\":\"https://content.guardianapis.com/science\",\"code\":\"default\"}]},{\"id\":\"search\",\"webTitle\":\"Search\",\"webUrl\":\"https://www.theguardian.com/search\",\"apiUrl\":\"https://content.guardianapis.com/search\",\"editions\":[{\"id\":\"search\",\"webTitle\":\"Search\",\"webUrl\":\"https://www.theguardian.com/search\",\"apiUrl\":\"https://content.guardianapis.com/search\",\"code\":\"default\"}]},{\"id\":\"small-business-network\",\"webTitle\":\"Guardian Small Business Network\",\"webUrl\":\"https://www.theguardian.com/small-business-network\",\"apiUrl\":\"https://content.guardianapis.com/small-business-network\",\"editions\":[{\"id\":\"small-business-network\",\"webTitle\":\"Guardian Small Business Network\",\"webUrl\":\"https://www.theguardian.com/small-business-network\",\"apiUrl\":\"https://content.guardianapis.com/small-business-network\",\"code\":\"default\"}]},{\"id\":\"social-care-network\",\"webTitle\":\"Social Care Network\",\"webUrl\":\"https://www.theguardian.com/social-care-network\",\"apiUrl\":\"https://content.guardianapis.com/social-care-network\",\"editions\":[{\"id\":\"social-care-network\",\"webTitle\":\"Social Care Network\",\"webUrl\":\"https://www.theguardian.com/social-care-network\",\"apiUrl\":\"https://content.guardianapis.com/social-care-network\",\"code\":\"default\"}]},{\"id\":\"social-enterprise-network\",\"webTitle\":\"Social Enterprise Network\",\"webUrl\":\"https://www.theguardian.com/social-enterprise-network\",\"apiUrl\":\"https://content.guardianapis.com/social-enterprise-network\",\"editions\":[{\"id\":\"social-enterprise-network\",\"webTitle\":\"Social Enterprise Network\",\"webUrl\":\"https://www.theguardian.com/social-enterprise-network\",\"apiUrl\":\"https://content.guardianapis.com/social-enterprise-network\",\"code\":\"default\"}]},{\"id\":\"society\",\"webTitle\":\"Society\",\"webUrl\":\"https://www.theguardian.com/society\",\"apiUrl\":\"https://content.guardianapis.com/society\",\"editions\":[{\"id\":\"society\",\"webTitle\":\"Society\",\"webUrl\":\"https://www.theguardian.com/society\",\"apiUrl\":\"https://content.guardianapis.com/society\",\"code\":\"default\"}]},{\"id\":\"society-professionals\",\"webTitle\":\"Society Professionals\",\"webUrl\":\"https://www.theguardian.com/society-professionals\",\"apiUrl\":\"https://content.guardianapis.com/society-professionals\",\"editions\":[{\"id\":\"society-professionals\",\"webTitle\":\"Society Professionals\",\"webUrl\":\"https://www.theguardian.com/society-professionals\",\"apiUrl\":\"https://content.guardianapis.com/society-professionals\",\"code\":\"default\"}]},{\"id\":\"sport\",\"webTitle\":\"Sport\",\"webUrl\":\"https://www.theguardian.com/sport\",\"apiUrl\":\"https://content.guardianapis.com/sport\",\"editions\":[{\"id\":\"sport\",\"webTitle\":\"Sport\",\"webUrl\":\"https://www.theguardian.com/sport\",\"apiUrl\":\"https://content.guardianapis.com/sport\",\"code\":\"default\"},{\"id\":\"uk/sport\",\"webTitle\":\"Sport\",\"webUrl\":\"https://www.theguardian.com/uk/sport\",\"apiUrl\":\"https://content.guardianapis.com/uk/sport\",\"code\":\"uk\"},{\"id\":\"us/sport\",\"webTitle\":\"Sport\",\"webUrl\":\"https://www.theguardian.com/us/sport\",\"apiUrl\":\"https://content.guardianapis.com/us/sport\",\"code\":\"us\"},{\"id\":\"au/sport\",\"webTitle\":\"Sport\",\"webUrl\":\"https://www.theguardian.com/au/sport\",\"apiUrl\":\"https://content.guardianapis.com/au/sport\",\"code\":\"au\"}]},{\"id\":\"stage\",\"webTitle\":\"Stage\",\"webUrl\":\"https://www.theguardian.com/stage\",\"apiUrl\":\"https://content.guardianapis.com/stage\",\"editions\":[{\"id\":\"stage\",\"webTitle\":\"Stage\",\"webUrl\":\"https://www.theguardian.com/stage\",\"apiUrl\":\"https://content.guardianapis.com/stage\",\"code\":\"default\"}]},{\"id\":\"teacher-network\",\"webTitle\":\"Teacher Network\",\"webUrl\":\"https://www.theguardian.com/teacher-network\",\"apiUrl\":\"https://content.guardianapis.com/teacher-network\",\"editions\":[{\"id\":\"teacher-network\",\"webTitle\":\"Teacher Network\",\"webUrl\":\"https://www.theguardian.com/teacher-network\",\"apiUrl\":\"https://content.guardianapis.com/teacher-network\",\"code\":\"default\"}]},{\"id\":\"technology\",\"webTitle\":\"Technology\",\"webUrl\":\"https://www.theguardian.com/technology\",\"apiUrl\":\"https://content.guardianapis.com/technology\",\"editions\":[{\"id\":\"technology\",\"webTitle\":\"Technology\",\"webUrl\":\"https://www.theguardian.com/technology\",\"apiUrl\":\"https://content.guardianapis.com/technology\",\"code\":\"default\"},{\"id\":\"au/technology\",\"webTitle\":\"Technology\",\"webUrl\":\"https://www.theguardian.com/au/technology\",\"apiUrl\":\"https://content.guardianapis.com/au/technology\",\"code\":\"au\"},{\"id\":\"uk/technology\",\"webTitle\":\"Technology\",\"webUrl\":\"https://www.theguardian.com/uk/technology\",\"apiUrl\":\"https://content.guardianapis.com/uk/technology\",\"code\":\"uk\"},{\"id\":\"us/technology\",\"webTitle\":\"Technology\",\"webUrl\":\"https://www.theguardian.com/us/technology\",\"apiUrl\":\"https://content.guardianapis.com/us/technology\",\"code\":\"us\"}]},{\"id\":\"theguardian\",\"webTitle\":\"From the Guardian\",\"webUrl\":\"https://www.theguardian.com/theguardian\",\"apiUrl\":\"https://content.guardianapis.com/theguardian\",\"editions\":[{\"id\":\"theguardian\",\"webTitle\":\"From the Guardian\",\"webUrl\":\"https://www.theguardian.com/theguardian\",\"apiUrl\":\"https://content.guardianapis.com/theguardian\",\"code\":\"default\"}]},{\"id\":\"theobserver\",\"webTitle\":\"From the Observer\",\"webUrl\":\"https://www.theguardian.com/theobserver\",\"apiUrl\":\"https://content.guardianapis.com/theobserver\",\"editions\":[{\"id\":\"theobserver\",\"webTitle\":\"From the Observer\",\"webUrl\":\"https://www.theguardian.com/theobserver\",\"apiUrl\":\"https://content.guardianapis.com/theobserver\",\"code\":\"default\"}]},{\"id\":\"travel\",\"webTitle\":\"Travel\",\"webUrl\":\"https://www.theguardian.com/travel\",\"apiUrl\":\"https://content.guardianapis.com/travel\",\"editions\":[{\"id\":\"travel\",\"webTitle\":\"Travel\",\"webUrl\":\"https://www.theguardian.com/travel\",\"apiUrl\":\"https://content.guardianapis.com/travel\",\"code\":\"default\"},{\"id\":\"au/travel\",\"webTitle\":\"Travel\",\"webUrl\":\"https://www.theguardian.com/au/travel\",\"apiUrl\":\"https://content.guardianapis.com/au/travel\",\"code\":\"au\"},{\"id\":\"uk/travel\",\"webTitle\":\"Travel\",\"webUrl\":\"https://www.theguardian.com/uk/travel\",\"apiUrl\":\"https://content.guardianapis.com/uk/travel\",\"code\":\"uk\"},{\"id\":\"us/travel\",\"webTitle\":\"Travel\",\"webUrl\":\"https://www.theguardian.com/us/travel\",\"apiUrl\":\"https://content.guardianapis.com/us/travel\",\"code\":\"us\"}]},{\"id\":\"travel/offers\",\"webTitle\":\"Guardian holiday offers\",\"webUrl\":\"https://www.theguardian.com/travel/offers\",\"apiUrl\":\"https://content.guardianapis.com/travel/offers\",\"editions\":[{\"id\":\"travel/offers\",\"webTitle\":\"Guardian holiday offers\",\"webUrl\":\"https://www.theguardian.com/travel/offers\",\"apiUrl\":\"https://content.guardianapis.com/travel/offers\",\"code\":\"default\"}]},{\"id\":\"tv-and-radio\",\"webTitle\":\"Television & radio\",\"webUrl\":\"https://www.theguardian.com/tv-and-radio\",\"apiUrl\":\"https://content.guardianapis.com/tv-and-radio\",\"editions\":[{\"id\":\"tv-and-radio\",\"webTitle\":\"Television & radio\",\"webUrl\":\"https://www.theguardian.com/tv-and-radio\",\"apiUrl\":\"https://content.guardianapis.com/tv-and-radio\",\"code\":\"default\"}]},{\"id\":\"uk-news\",\"webTitle\":\"UK news\",\"webUrl\":\"https://www.theguardian.com/uk-news\",\"apiUrl\":\"https://content.guardianapis.com/uk-news\",\"editions\":[{\"id\":\"uk-news\",\"webTitle\":\"UK news\",\"webUrl\":\"https://www.theguardian.com/uk-news\",\"apiUrl\":\"https://content.guardianapis.com/uk-news\",\"code\":\"default\"}]},{\"id\":\"us-news\",\"webTitle\":\"US news\",\"webUrl\":\"https://www.theguardian.com/us-news\",\"apiUrl\":\"https://content.guardianapis.com/us-news\",\"editions\":[{\"id\":\"us-news\",\"webTitle\":\"US news\",\"webUrl\":\"https://www.theguardian.com/us-news\",\"apiUrl\":\"https://content.guardianapis.com/us-news\",\"code\":\"default\"}]},{\"id\":\"voluntary-sector-network\",\"webTitle\":\"Voluntary Sector Network\",\"webUrl\":\"https://www.theguardian.com/voluntary-sector-network\",\"apiUrl\":\"https://content.guardianapis.com/voluntary-sector-network\",\"editions\":[{\"id\":\"voluntary-sector-network\",\"webTitle\":\"Voluntary Sector Network\",\"webUrl\":\"https://www.theguardian.com/voluntary-sector-network\",\"apiUrl\":\"https://content.guardianapis.com/voluntary-sector-network\",\"code\":\"default\"}]},{\"id\":\"weather\",\"webTitle\":\"Weather\",\"webUrl\":\"https://www.theguardian.com/weather\",\"apiUrl\":\"https://content.guardianapis.com/weather\",\"editions\":[{\"id\":\"weather\",\"webTitle\":\"Weather\",\"webUrl\":\"https://www.theguardian.com/weather\",\"apiUrl\":\"https://content.guardianapis.com/weather\",\"code\":\"default\"}]},{\"id\":\"women-in-leadership\",\"webTitle\":\"Women in Leadership\",\"webUrl\":\"https://www.theguardian.com/women-in-leadership\",\"apiUrl\":\"https://content.guardianapis.com/women-in-leadership\",\"editions\":[{\"id\":\"women-in-leadership\",\"webTitle\":\"Women in Leadership\",\"webUrl\":\"https://www.theguardian.com/women-in-leadership\",\"apiUrl\":\"https://content.guardianapis.com/women-in-leadership\",\"code\":\"default\"}]},{\"id\":\"working-in-development\",\"webTitle\":\"Working in development\",\"webUrl\":\"https://www.theguardian.com/working-in-development\",\"apiUrl\":\"https://content.guardianapis.com/working-in-development\",\"editions\":[{\"id\":\"working-in-development\",\"webTitle\":\"Working in development\",\"webUrl\":\"https://www.theguardian.com/working-in-development\",\"apiUrl\":\"https://content.guardianapis.com/working-in-development\",\"code\":\"default\"}]},{\"id\":\"world\",\"webTitle\":\"World news\",\"webUrl\":\"https://www.theguardian.com/world\",\"apiUrl\":\"https://content.guardianapis.com/world\",\"editions\":[{\"id\":\"world\",\"webTitle\":\"World news\",\"webUrl\":\"https://www.theguardian.com/world\",\"apiUrl\":\"https://content.guardianapis.com/world\",\"code\":\"default\"}]}]}}'"
      ]
     },
     "execution_count": 4,
     "metadata": {},
     "output_type": "execute_result"
    }
   ],
   "source": [
    "src"
   ]
  },
  {
   "cell_type": "code",
   "execution_count": 3,
   "metadata": {},
   "outputs": [
    {
     "name": "stdout",
     "output_type": "stream",
     "text": [
      "dict_keys(['status', 'userTier', 'total', 'results'])\n"
     ]
    }
   ],
   "source": [
    "sections = json.loads(src)['response']\n",
    "\n",
    "print(sections.keys())"
   ]
  },
  {
   "cell_type": "code",
   "execution_count": 6,
   "metadata": {},
   "outputs": [
    {
     "name": "stdout",
     "output_type": "stream",
     "text": [
      "{\n",
      "  \"apiUrl\": \"https://content.guardianapis.com/about\",\n",
      "  \"editions\": [\n",
      "    {\n",
      "      \"apiUrl\": \"https://content.guardianapis.com/about\",\n",
      "      \"code\": \"default\",\n",
      "      \"id\": \"about\",\n",
      "      \"webTitle\": \"About\",\n",
      "      \"webUrl\": \"https://www.theguardian.com/about\"\n",
      "    }\n",
      "  ],\n",
      "  \"id\": \"about\",\n",
      "  \"webTitle\": \"About\",\n",
      "  \"webUrl\": \"https://www.theguardian.com/about\"\n",
      "}\n"
     ]
    }
   ],
   "source": [
    "print(json.dumps(sections['results'][0], indent=2, sort_keys=True))"
   ]
  },
  {
   "cell_type": "code",
   "execution_count": 7,
   "metadata": {},
   "outputs": [
    {
     "name": "stdout",
     "output_type": "stream",
     "text": [
      "Technology https://content.guardianapis.com/technology\n"
     ]
    }
   ],
   "source": [
    "for result in sections['results']: \n",
    "    if 'tech' in result['id'].lower(): \n",
    "        print(result['webTitle'], result['apiUrl'])"
   ]
  },
  {
   "cell_type": "markdown",
   "metadata": {},
   "source": [
    "# Manual query on whole API"
   ]
  },
  {
   "cell_type": "code",
   "execution_count": 9,
   "metadata": {},
   "outputs": [],
   "source": [
    "# Specify the arguments\n",
    "args = {\n",
    "    'section': 'technology', \n",
    "    'order-by': 'newest', \n",
    "    'api-key': 'test', \n",
    "    'page-size': '100'\n",
    "}\n",
    "\n",
    "# Construct the URL\n",
    "base_url = 'http://content.guardianapis.com/search'\n",
    "url = '{}?{}'.format(\n",
    "    base_url, \n",
    "    '&'.join([\"{}={}\".format(kk, vv) for kk, vv in args.items()])\n",
    ")\n",
    "\n",
    "# Make the request and extract the source\n",
    "req = requests.get(url) \n",
    "src = req.text"
   ]
  },
  {
   "cell_type": "code",
   "execution_count": 10,
   "metadata": {},
   "outputs": [
    {
     "name": "stdout",
     "output_type": "stream",
     "text": [
      "Number of byes received: 60001\n"
     ]
    }
   ],
   "source": [
    "print('Number of byes received:', len(src))"
   ]
  },
  {
   "cell_type": "markdown",
   "metadata": {},
   "source": [
    "The API returns JSON, so we parse this using the in-built JSON library. \n",
    "The API specifies that all data are returned within the `response` key, even under failure. \n",
    "Thereofre, I have immediately descended to the response field "
   ]
  },
  {
   "cell_type": "markdown",
   "metadata": {},
   "source": [
    "# Parsing the JSON"
   ]
  },
  {
   "cell_type": "code",
   "execution_count": 12,
   "metadata": {
    "scrolled": false
   },
   "outputs": [
    {
     "name": "stdout",
     "output_type": "stream",
     "text": [
      "The following are available:\n",
      "  ['currentPage', 'orderBy', 'pageSize', 'pages', 'results', 'startIndex', 'status', 'total', 'userTier']\n"
     ]
    }
   ],
   "source": [
    "response = json.loads(src)['response']\n",
    "print('The following are available:\\n ', sorted(response.keys()))"
   ]
  },
  {
   "cell_type": "markdown",
   "metadata": {},
   "source": [
    "# Verifying the status code\n",
    "\n",
    "It is important to verify that the status message is `ok` before continuing - if it is not `ok` no 'real' data \n",
    "will have been received. "
   ]
  },
  {
   "cell_type": "code",
   "execution_count": 13,
   "metadata": {},
   "outputs": [],
   "source": [
    "assert response['status'] == 'ok'"
   ]
  },
  {
   "cell_type": "markdown",
   "metadata": {},
   "source": [
    "# Listing the results \n",
    "\n",
    "The API standard states that the results will be found in the `results` field under the `response` field. \n",
    "Furthermore, the URLs will be found in the `webUrl` field, and the title will be found in the `webTitle` \n",
    "field. \n",
    "\n",
    "First let's look to see what a single result looks like in full, and then I will print a restricted \n",
    "set of parameters on the full set of results ."
   ]
  },
  {
   "cell_type": "code",
   "execution_count": 14,
   "metadata": {},
   "outputs": [
    {
     "name": "stdout",
     "output_type": "stream",
     "text": [
      "{\n",
      "  \"apiUrl\": \"https://content.guardianapis.com/technology/2018/jan/24/self-driving-cars-dangerous-period-false-security\",\n",
      "  \"id\": \"technology/2018/jan/24/self-driving-cars-dangerous-period-false-security\",\n",
      "  \"isHosted\": false,\n",
      "  \"pillarId\": \"pillar/news\",\n",
      "  \"pillarName\": \"News\",\n",
      "  \"sectionId\": \"technology\",\n",
      "  \"sectionName\": \"Technology\",\n",
      "  \"type\": \"article\",\n",
      "  \"webPublicationDate\": \"2018-01-24T08:01:25Z\",\n",
      "  \"webTitle\": \"Who's driving? Autonomous cars may be entering the most dangerous phase\",\n",
      "  \"webUrl\": \"https://www.theguardian.com/technology/2018/jan/24/self-driving-cars-dangerous-period-false-security\"\n",
      "}\n"
     ]
    }
   ],
   "source": [
    "print(json.dumps(response['results'][0], indent=2, sort_keys=True))"
   ]
  },
  {
   "cell_type": "code",
   "execution_count": 15,
   "metadata": {},
   "outputs": [
    {
     "name": "stdout",
     "output_type": "stream",
     "text": [
      "https://www.theguardian.com/technology/2018/jan/24/self-driving-cars-d Who's driving? Auton\n",
      "https://www.theguardian.com/technology/2018/jan/23/mary-lee-berners-le Mary Lee Berners-Lee\n",
      "https://www.theguardian.com/technology/2018/jan/23/elon-musk-aiming-fo Elon Musk lines up $\n",
      "https://www.theguardian.com/technology/2018/jan/23/facebook-new-privac Facebook to roll out\n",
      "https://www.theguardian.com/technology/2018/jan/23/apple-homepod-avail Apple HomePod finall\n",
      "https://www.theguardian.com/technology/2018/jan/23/bitcoin-ubs-chairma UBS chairman warns a\n",
      "https://www.theguardian.com/technology/shortcuts/2018/jan/23/a-sign-th ‘A sign that you’re \n",
      "https://www.theguardian.com/technology/2018/jan/23/cybercrime-130bn-st Cybercrime: £130bn s\n",
      "https://www.theguardian.com/technology/2018/jan/22/cyber-attack-on-uk- Major cyber-attack o\n",
      "https://www.theguardian.com/technology/2018/jan/22/rupert-murdoch-face Rupert Murdoch tells\n",
      "https://www.theguardian.com/us-news/2018/jan/22/amazon-go-convenience- Amazon Go: convenien\n",
      "https://www.theguardian.com/technology/2018/jan/22/facebook-too-slow-s Facebook: we were to\n",
      "https://www.theguardian.com/technology/shortcuts/2018/jan/22/four-ways Four ways to avoid b\n",
      "https://www.theguardian.com/technology/2018/jan/22/bedroom-phone-free- My bedroom is a phon\n",
      "https://www.theguardian.com/technology/2018/jan/22/eve-v-review-crowdf Eve V review: upstar\n",
      "https://www.theguardian.com/media/media-blog/2018/jan/21/why-facebook- Why Facebook's news \n",
      "https://www.theguardian.com/technology/2018/jan/21/pyeongchang-2018-te Pyeongchang 2018: we\n",
      "https://www.theguardian.com/technology/2018/jan/21/volkswagen-arteon-f Volkswagen Arteon pr\n",
      "https://www.theguardian.com/technology/2018/jan/21/broadband-tariffs-c Millions could save \n",
      "https://www.theguardian.com/technology/2018/jan/20/kevin-allocca-inter Kevin Allocca: ‘Earl\n",
      "https://www.theguardian.com/technology/2018/jan/19/twitter-admits-far- Twitter admits far m\n",
      "https://www.theguardian.com/technology/2018/jan/17/apple-bus-attack-pe Buses for Apple empl\n",
      "https://www.theguardian.com/technology/2018/jan/19/tim-cook-i-dont-wan Apple's Tim Cook: 'I\n",
      "https://www.theguardian.com/technology/2018/jan/19/facebook-hires-euro Facebook hires Euros\n",
      "https://www.theguardian.com/technology/2018/jan/19/amazon-second-headq Amazon's next top he\n",
      "https://www.theguardian.com/technology/askjack/2018/jan/18/how-can-i-r How can I remove unw\n",
      "https://www.theguardian.com/technology/2018/jan/18/bitcoin-fluctuation Bitcoin's fluctuatio\n",
      "https://www.theguardian.com/technology/2018/jan/18/tide-pod-challenge- Tide Pod challenge: \n",
      "https://www.theguardian.com/technology/2018/jan/18/youtube-creators-vl YouTube's small crea\n",
      "https://www.theguardian.com/technology/2018/jan/18/iphone-apple-users- iPhone users to be g\n",
      "https://www.theguardian.com/technology/2018/jan/18/bitcoin-speculative Bitcoin bubble is bu\n",
      "https://www.theguardian.com/technology/2018/jan/17/social-media-firms- Social media firms w\n",
      "https://www.theguardian.com/technology/2018/jan/17/birth-control-app-n Birth control app re\n",
      "https://www.theguardian.com/technology/2018/jan/17/apple-cash-tax-jobs Apple says it will p\n",
      "https://www.theguardian.com/technology/2018/jan/17/facebook-inquiry-ru Facebook to expand i\n",
      "https://www.theguardian.com/technology/2018/jan/17/bitcoin-electricity Bitcoin’s energy usa\n",
      "https://www.theguardian.com/technology/2018/jan/17/youtube-star-chriss YouTube star wins da\n",
      "https://www.theguardian.com/technology/2018/jan/17/bitcoin-continues-s Bitcoin continues ra\n",
      "https://www.theguardian.com/technology/2018/jan/17/sony-ceo-kaz-hirai- CEO Kaz Hirai on Son\n",
      "https://www.theguardian.com/technology/2018/jan/17/youtube-google-manu YouTube to manually \n",
      "https://www.theguardian.com/technology/2018/jan/16/bitcoin-ethereum-so Bitcoin and Ethereum\n",
      "https://www.theguardian.com/technology/2018/jan/16/echo-spot-amazon-sm Echo Spot: 'smart cl\n",
      "https://www.theguardian.com/technology/shortcuts/2018/jan/15/zooglers- Zooglers: why staff \n",
      "https://www.theguardian.com/technology/shortcuts/2018/jan/15/hold-app- Can an app that rewa\n",
      "https://www.theguardian.com/technology/2018/jan/15/hawaii-missile-fals Hawaii missile false\n",
      "https://www.theguardian.com/technology/2018/jan/14/seat-ibiza-review-s Seat Ibiza review: ‘\n",
      "https://www.theguardian.com/technology/2018/jan/13/huawei-china-americ Will AT&T’s call to \n",
      "https://www.theguardian.com/technology/2018/jan/13/how-to-quit-your-te How to quit your tec\n",
      "https://www.theguardian.com/technology/2018/jan/12/facebook-faces-lega Facebook warned it f\n",
      "https://www.theguardian.com/technology/2018/jan/12/google-racism-ban-g Google's solution to\n",
      "https://www.theguardian.com/technology/2018/jan/12/ces-2018-voice-cont CES 2018: voice-cont\n",
      "https://www.theguardian.com/technology/2018/jan/12/why-facebooks-news- Why Facebook's news \n",
      "https://www.theguardian.com/technology/2018/jan/11/facebook-news-feed- Facebook overhauls N\n",
      "https://www.theguardian.com/technology/2018/jan/11/uber-developed-secr Uber developed secre\n",
      "https://www.theguardian.com/technology/2018/jan/11/ford-self-driving-c Ford-backed self-dri\n",
      "https://www.theguardian.com/technology/2018/jan/11/kodak-companies-bit Kodak leads surge of\n",
      "https://www.theguardian.com/technology/askjack/2018/jan/11/pc-tuning-s Do I still need PC t\n",
      "https://www.theguardian.com/technology/2018/jan/11/bitcoin-drops-value Bitcoin drops $2,000\n",
      "https://www.theguardian.com/technology/2018/jan/10/bitcoin-and-cryptoc Bitcoin and cryptocu\n",
      "https://www.theguardian.com/technology/2018/jan/10/logan-paul-youtube- Logan Paul: YouTube \n",
      "https://www.theguardian.com/technology/2018/jan/11/cyber-attack-risk-o Cyber-attack risk on\n",
      "https://www.theguardian.com/technology/2018/jan/10/facebook-google-twi Facebook, Google and\n",
      "https://www.theguardian.com/technology/2018/jan/10/carphone-warehouse- Carphone Warehouse f\n",
      "https://www.theguardian.com/technology/2018/jan/10/apple-hmrc-forced-p HMRC forces Apple to\n",
      "https://www.theguardian.com/technology/2018/jan/10/consumer-electonric CES 2018: less 'whoa\n",
      "https://www.theguardian.com/technology/2018/jan/10/apple-questioned-us Apple questioned by \n",
      "https://www.theguardian.com/technology/2018/jan/09/data-protection-bil Data protection bill\n",
      "https://www.theguardian.com/technology/2018/jan/09/apple-tracking-bloc No tracking, no reve\n",
      "https://www.theguardian.com/technology/2018/jan/09/apple-children-pare Apple plans 'more ro\n",
      "https://www.theguardian.com/technology/2018/jan/08/james-damore-sues-g James Damore sues Go\n",
      "https://www.theguardian.com/technology/2018/jan/08/apple-investors-iph Apple investors call\n",
      "https://www.theguardian.com/technology/2018/jan/08/meltdown-spectre-sl Meltdown: Epic Games\n",
      "https://www.theguardian.com/technology/2018/jan/07/bitcoin-crypto-curr How I fell for the b\n",
      "https://www.theguardian.com/technology/2018/jan/07/skoda-vrs-245-perfo Skoda vRS 245 review\n",
      "https://www.theguardian.com/technology/2018/jan/06/how-smart-speakers- How smart speakers s\n",
      "https://www.theguardian.com/technology/2018/jan/05/intel-class-action- Intel facing class-a\n",
      "https://www.theguardian.com/technology/2018/jan/04/facebook-mark-zucke Mark Zuckerberg sets\n",
      "https://www.theguardian.com/technology/2018/jan/04/fat-cat-thursday-an Fat Cat Thursday and\n",
      "https://www.theguardian.com/technology/2018/jan/04/meltdown-spectre-co Spectre and Meltdown\n",
      "https://www.theguardian.com/technology/2018/jan/04/meltdown-spectre-wo Meltdown and Spectre\n",
      "https://www.theguardian.com/technology/askjack/2018/jan/04/apple-ipod- Are there any good p\n",
      "https://www.theguardian.com/technology/2018/jan/03/spread-betting-firm Shares in spread bet\n",
      "https://www.theguardian.com/technology/2018/jan/03/are-we-really-ready Are we really ready \n",
      "https://www.theguardian.com/technology/2018/jan/03/major-security-flaw Major security flaw \n",
      "https://www.theguardian.com/technology/2018/jan/02/moscow-russia-self- Moscow is a terrifyi\n",
      "https://www.theguardian.com/technology/2018/jan/01/elon-musk-neurotech Neurotechnology, Elo\n",
      "https://www.theguardian.com/technology/2017/dec/31/ripple-cryptocurren Ripple: cryptocurren\n",
      "https://www.theguardian.com/technology/2017/dec/31/elon-musk-tesla-fou Tesla founder mines \n",
      "https://www.theguardian.com/technology/2017/dec/31/lack-of-charging-ba UK lacks infrastruct\n",
      "https://www.theguardian.com/technology/2017/dec/31/2018-in-technology- From the future of b\n",
      "https://www.theguardian.com/technology/2017/dec/30/wannacry-petya-notp WannaCry, Petya, Not\n",
      "https://www.theguardian.com/technology/2017/dec/29/apple-apologises-fo Apple apologises for\n",
      "https://www.theguardian.com/technology/2017/dec/28/best-internet-momen Ten genuinely great \n",
      "https://www.theguardian.com/technology/2017/dec/28/can-facebook-win-it Can Facebook win its\n",
      "https://www.theguardian.com/technology/2017/dec/28/bitcoin-falls-south Bitcoin falls $1,000\n",
      "https://www.theguardian.com/technology/2017/dec/28/tech-inventions-to- Forget Juicero, here\n",
      "https://www.theguardian.com/technology/2017/dec/28/safety-check-facebo Safety Check: is Fac\n",
      "https://www.theguardian.com/technology/askjack/2017/dec/28/which-deskt Which desktop PC sho\n",
      "https://www.theguardian.com/technology/2017/dec/28/uks-poorest-to-fare UK’s poorest to fare\n",
      "https://www.theguardian.com/technology/2017/dec/28/best-of-the-best-th Best of the Best: th\n"
     ]
    }
   ],
   "source": [
    "for result in response['results']: \n",
    "    print(result['webUrl'][:70], result['webTitle'][:20])"
   ]
  },
  {
   "cell_type": "code",
   "execution_count": null,
   "metadata": {
    "collapsed": true
   },
   "outputs": [],
   "source": []
  },
  {
   "cell_type": "code",
   "execution_count": null,
   "metadata": {
    "collapsed": true
   },
   "outputs": [],
   "source": []
  }
 ],
 "metadata": {
  "kernelspec": {
   "display_name": "Python 2",
   "language": "python",
   "name": "python2"
  },
  "language_info": {
   "codemirror_mode": {
    "name": "ipython",
    "version": 3
   },
   "file_extension": ".py",
   "mimetype": "text/x-python",
   "name": "python",
   "nbconvert_exporter": "python",
   "pygments_lexer": "ipython3",
   "version": "3.6.3"
  }
 },
 "nbformat": 4,
 "nbformat_minor": 2
}
