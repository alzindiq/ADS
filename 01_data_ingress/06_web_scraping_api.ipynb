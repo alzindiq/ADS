{
 "cells": [
  {
   "cell_type": "markdown",
   "metadata": {},
   "source": [
    "# The Guardian API\n",
    "\n",
    "In the `beautiful_soup.ipynb` notebook, I showed how BeautifulSoup can be used \n",
    "to parse messy HTML, tp extract information, and to act as a rudimentary web crawler. \n",
    "I used The Guardian as an illustrative example about how this can be achieved. \n",
    "The reason for choosing The Guardian was because they provide a REST API to their servers. \n",
    "With theise it is possible to perform specific queries on their servers, and to receive \n",
    "current information from their servers according to their API guide (ie in JSON)\n",
    "\n",
    "http://open-platform.theguardian.com/\n",
    "\n",
    "In order to use their API, you will need to register for an API key. \n",
    "At the time of writing (Feb 1, 2017) this was an automated process that can be completed at \n",
    "\n",
    "http://open-platform.theguardian.com/access/\n",
    "\n",
    "The API is documented here: \n",
    "\n",
    "http://open-platform.theguardian.com/documentation/\n",
    "\n",
    "and Python bindings to their API are provided by The Guardian here\n",
    "\n",
    "https://github.com/prabhath6/theguardian-api-python\n",
    "\n",
    "and these can easily be integrated into a web-crawler based on API calls, rather than being based \n",
    "on HTML parsing, etc. \n",
    "\n",
    "We use four parameters in our queries here: \n",
    "\n",
    "1. `section`: the section of the newspaper that we are interested in querying. In this case I'm lookin in \n",
    "the technology section \n",
    "\n",
    "2. `order-by`: I have specifie that the newest items should be closer to the front of the query list \n",
    "\n",
    "3. `api-key`: I have left this as test (which works here), but for *real* deployment of such a spider\n",
    "a real API key should be specified \n",
    "\n",
    "4. `page-size`: The number of results to return. "
   ]
  },
  {
   "cell_type": "code",
   "execution_count": 2,
   "metadata": {},
   "outputs": [],
   "source": [
    "from __future__ import print_function\n",
    "\n",
    "import requests \n",
    "import json "
   ]
  },
  {
   "cell_type": "markdown",
   "metadata": {},
   "source": [
    "# Inspect all sections and search for technology-based sections"
   ]
  },
  {
   "cell_type": "code",
   "execution_count": 3,
   "metadata": {},
   "outputs": [],
   "source": [
    "url = 'https://content.guardianapis.com/sections?api-key=test'\n",
    "req = requests.get(url)\n",
    "src = req.text "
   ]
  },
  {
   "cell_type": "code",
   "execution_count": 12,
   "metadata": {
    "scrolled": true
   },
   "outputs": [
    {
     "data": {
      "text/plain": [
       "'ok'"
      ]
     },
     "execution_count": 12,
     "metadata": {},
     "output_type": "execute_result"
    }
   ],
   "source": [
    "json.loads(src)['response']['status']"
   ]
  },
  {
   "cell_type": "code",
   "execution_count": 11,
   "metadata": {},
   "outputs": [
    {
     "name": "stdout",
     "output_type": "stream",
     "text": [
      "dict_keys(['status', 'userTier', 'total', 'results'])\n"
     ]
    }
   ],
   "source": [
    "sections = json.loads(src)['response']\n",
    "\n",
    "print(sections.keys())"
   ]
  },
  {
   "cell_type": "code",
   "execution_count": 13,
   "metadata": {},
   "outputs": [
    {
     "name": "stdout",
     "output_type": "stream",
     "text": [
      "{\n",
      "  \"apiUrl\": \"https://content.guardianapis.com/about\",\n",
      "  \"editions\": [\n",
      "    {\n",
      "      \"apiUrl\": \"https://content.guardianapis.com/about\",\n",
      "      \"code\": \"default\",\n",
      "      \"id\": \"about\",\n",
      "      \"webTitle\": \"About\",\n",
      "      \"webUrl\": \"https://www.theguardian.com/about\"\n",
      "    }\n",
      "  ],\n",
      "  \"id\": \"about\",\n",
      "  \"webTitle\": \"About\",\n",
      "  \"webUrl\": \"https://www.theguardian.com/about\"\n",
      "}\n"
     ]
    }
   ],
   "source": [
    "print(json.dumps(sections['results'][0], indent=2, sort_keys=True))"
   ]
  },
  {
   "cell_type": "code",
   "execution_count": 14,
   "metadata": {},
   "outputs": [
    {
     "name": "stdout",
     "output_type": "stream",
     "text": [
      "Technology https://content.guardianapis.com/technology\n"
     ]
    }
   ],
   "source": [
    "for result in sections['results']: \n",
    "    if 'tech' in result['id'].lower(): \n",
    "        print(result['webTitle'], result['apiUrl'])"
   ]
  },
  {
   "cell_type": "markdown",
   "metadata": {},
   "source": [
    "# Manual query on whole API"
   ]
  },
  {
   "cell_type": "code",
   "execution_count": 23,
   "metadata": {},
   "outputs": [],
   "source": [
    "# Specify the arguments\n",
    "args = {\n",
    "    'section': 'technology', \n",
    "    'order-by': 'newest', \n",
    "    'api-key': 'test', \n",
    "    'page-size': '100',\n",
    "    'q' : 'privacy%20AND%20data'\n",
    "}\n",
    "\n",
    "# Construct the URL\n",
    "base_url = 'http://content.guardianapis.com/search'\n",
    "url = '{}?{}'.format(\n",
    "    base_url, \n",
    "    '&'.join([\"{}={}\".format(kk, vv) for kk, vv in args.items()])\n",
    ")\n",
    "\n",
    "# Make the request and extract the source\n",
    "req = requests.get(url) \n",
    "src = req.text"
   ]
  },
  {
   "cell_type": "code",
   "execution_count": 24,
   "metadata": {},
   "outputs": [
    {
     "name": "stdout",
     "output_type": "stream",
     "text": [
      "Number of byes received: 59513\n"
     ]
    }
   ],
   "source": [
    "print('Number of byes received:', len(src))"
   ]
  },
  {
   "cell_type": "markdown",
   "metadata": {},
   "source": [
    "The API returns JSON, so we parse this using the in-built JSON library. \n",
    "The API specifies that all data are returned within the `response` key, even under failure. \n",
    "Thereofre, I have immediately descended to the response field "
   ]
  },
  {
   "cell_type": "markdown",
   "metadata": {},
   "source": [
    "# Parsing the JSON"
   ]
  },
  {
   "cell_type": "code",
   "execution_count": 25,
   "metadata": {
    "scrolled": false
   },
   "outputs": [
    {
     "name": "stdout",
     "output_type": "stream",
     "text": [
      "The following are available:\n",
      "  ['currentPage', 'orderBy', 'pageSize', 'pages', 'results', 'startIndex', 'status', 'total', 'userTier']\n"
     ]
    }
   ],
   "source": [
    "response = json.loads(src)['response']\n",
    "print('The following are available:\\n ', sorted(response.keys()))"
   ]
  },
  {
   "cell_type": "markdown",
   "metadata": {},
   "source": [
    "# Verifying the status code\n",
    "\n",
    "It is important to verify that the status message is `ok` before continuing - if it is not `ok` no 'real' data \n",
    "will have been received. "
   ]
  },
  {
   "cell_type": "code",
   "execution_count": 26,
   "metadata": {},
   "outputs": [],
   "source": [
    "assert response['status'] == 'ok'"
   ]
  },
  {
   "cell_type": "markdown",
   "metadata": {},
   "source": [
    "# Listing the results \n",
    "\n",
    "The API standard states that the results will be found in the `results` field under the `response` field. \n",
    "Furthermore, the URLs will be found in the `webUrl` field, and the title will be found in the `webTitle` \n",
    "field. \n",
    "\n",
    "First let's look to see what a single result looks like in full, and then I will print a restricted \n",
    "set of parameters on the full set of results ."
   ]
  },
  {
   "cell_type": "code",
   "execution_count": 27,
   "metadata": {},
   "outputs": [
    {
     "name": "stdout",
     "output_type": "stream",
     "text": [
      "{\n",
      "  \"apiUrl\": \"https://content.guardianapis.com/technology/2020/feb/04/google-software-glitch-sent-some-users-videos-to-strangers\",\n",
      "  \"id\": \"technology/2020/feb/04/google-software-glitch-sent-some-users-videos-to-strangers\",\n",
      "  \"isHosted\": false,\n",
      "  \"pillarId\": \"pillar/news\",\n",
      "  \"pillarName\": \"News\",\n",
      "  \"sectionId\": \"technology\",\n",
      "  \"sectionName\": \"Technology\",\n",
      "  \"type\": \"article\",\n",
      "  \"webPublicationDate\": \"2020-02-04T12:56:37Z\",\n",
      "  \"webTitle\": \"Google software glitch sent some users' videos to strangers\",\n",
      "  \"webUrl\": \"https://www.theguardian.com/technology/2020/feb/04/google-software-glitch-sent-some-users-videos-to-strangers\"\n",
      "}\n"
     ]
    }
   ],
   "source": [
    "print(json.dumps(response['results'][0], indent=2, sort_keys=True))"
   ]
  },
  {
   "cell_type": "code",
   "execution_count": 46,
   "metadata": {},
   "outputs": [
    {
     "name": "stdout",
     "output_type": "stream",
     "text": [
      "https://www.theguardian.com/technology/2020/feb/04/google-software-gli Google software glit\n",
      "https://www.theguardian.com/technology/2020/jan/30/mike-pompeo-restate Mike Pompeo restates\n",
      "https://www.theguardian.com/technology/2020/jan/30/facebook-pays-550m- Facebook pays $550m \n",
      "https://www.theguardian.com/technology/2020/jan/28/boris-johnson-gets- Boris Johnson gets f\n",
      "https://www.theguardian.com/technology/commentisfree/2020/jan/25/facia Quick, cheap to make\n",
      "https://www.theguardian.com/technology/2020/jan/25/peter-diamandis-fut Peter Diamandis: ‘In\n",
      "https://www.theguardian.com/technology/2020/jan/24/met-police-begin-us Met police to begin \n",
      "https://www.theguardian.com/technology/2020/jan/22/tell-us-about-the-w Tell us about the we\n",
      "https://www.theguardian.com/technology/2020/jan/22/un-investigators-to Bezos hack: UN to ad\n",
      "https://www.theguardian.com/technology/2020/jan/22/tech-firms-fail-pro Watchdog cracks down\n",
      "https://www.theguardian.com/technology/2020/jan/18/1-trillion-dollars- $1tn is just the sta\n",
      "https://www.theguardian.com/technology/2020/jan/17/google-owner-alphab Google owner Alphabe\n",
      "https://www.theguardian.com/technology/2020/jan/16/instagram-my-data-c Was anyone ever so y\n",
      "https://www.theguardian.com/technology/2020/jan/16/google-nest-mini-re Google Nest Mini rev\n",
      "https://www.theguardian.com/technology/2020/jan/15/twitter-drops-grind Twitter drops Grindr\n",
      "https://www.theguardian.com/technology/2020/jan/12/anger-over-use-faci Anger over use of fa\n",
      "https://www.theguardian.com/technology/2020/jan/10/skype-audio-graded- Skype audio graded b\n",
      "https://www.theguardian.com/technology/2020/jan/08/facial-recognition- Facial recognition a\n",
      "https://www.theguardian.com/technology/2020/jan/08/travelex-hack-staff Travelex hack: staff\n",
      "https://www.theguardian.com/technology/2020/jan/03/metoobots-scientist Rise of #MeTooBots: \n",
      "https://www.theguardian.com/technology/2020/jan/03/technology-2050-sav Technology in 2050: \n",
      "https://www.theguardian.com/technology/2019/dec/31/get-cybersecure-for Get yourself cyberse\n",
      "https://www.theguardian.com/technology/2019/dec/29/lack-of-guidance-le Lack of guidance lea\n",
      "https://www.theguardian.com/technology/askjack/2019/dec/19/how-can-i-g How can I get better\n",
      "https://www.theguardian.com/technology/shortcuts/2019/dec/16/alexa-can 'Mind your own busin\n",
      "https://www.theguardian.com/technology/2019/dec/14/twenty-tech-trends- Twenty tech trends f\n",
      "https://www.theguardian.com/technology/2019/dec/13/ring-hackers-report Ring hackers are rep\n",
      "https://www.theguardian.com/technology/askjack/2019/dec/12/duckduckgo- Can DuckDuckGo repla\n",
      "https://www.theguardian.com/technology/2019/dec/12/ring-alarm-review-a Ring Alarm review: A\n",
      "https://www.theguardian.com/technology/askjack/2019/nov/28/security-so What sort of securit\n",
      "https://www.theguardian.com/technology/2019/nov/24/tim-berners-lee-unv Tim Berners-Lee unve\n",
      "https://www.theguardian.com/technology/2019/nov/23/facebook-google-hum Tech giants watch ou\n",
      "https://www.theguardian.com/technology/2019/nov/21/google-project-nigh Warren and group of \n",
      "https://www.theguardian.com/technology/2019/nov/19/technology-laws-are Technology laws are \n",
      "https://www.theguardian.com/technology/2019/nov/17/firefox-mozilla-fig Firefox’s fight for \n",
      "https://www.theguardian.com/technology/2019/nov/17/porn-public-transpo Porn, public transpo\n",
      "https://www.theguardian.com/technology/2019/nov/14/google-healthcare-d Will Google get away\n",
      "https://www.theguardian.com/technology/2019/nov/12/google-medical-data Google's secret cach\n",
      "https://www.theguardian.com/technology/2019/nov/08/the-rise-of-microch The rise of microchi\n",
      "https://www.theguardian.com/technology/2019/nov/06/google-nest-hub-max Google Nest Hub Max \n",
      "https://www.theguardian.com/technology/2019/nov/04/uber-los-angeles-pe LA suspends Uber’s s\n",
      "https://www.theguardian.com/technology/2019/nov/01/whatsapp-hack-is-se WhatsApp 'hack' is s\n",
      "https://www.theguardian.com/technology/2019/oct/30/apple-lets-users-op Apple lets users opt\n",
      "https://www.theguardian.com/technology/2019/oct/30/facebook-agrees-to- Facebook agrees to p\n",
      "https://www.theguardian.com/technology/2019/oct/29/labour-calls-for-ha Labour calls for hal\n",
      "https://www.theguardian.com/technology/2019/oct/29/google-pixel-4-xl-r Google Pixel 4 XL re\n",
      "https://www.theguardian.com/technology/2019/oct/26/china-technology-so Why you should worry\n",
      "https://www.theguardian.com/technology/2019/oct/24/mind-reading-tech-p Mind-reading tech? H\n",
      "https://www.theguardian.com/technology/2019/oct/22/oneplus-7t-pro-revi OnePlus 7T Pro revie\n",
      "https://www.theguardian.com/technology/2019/oct/21/google-eye-detectio Google to add eye de\n",
      "https://www.theguardian.com/technology/2019/oct/18/how-the-wheels-came How the wheels came \n",
      "https://www.theguardian.com/culture/2019/oct/16/uk-drops-plans-for-onl UK drops plans for o\n",
      "https://www.theguardian.com/technology/2019/oct/16/digital-welfare-sta ‘Digital welfare sta\n",
      "https://www.theguardian.com/society/2019/oct/15/alexa-do-you-recall-th Alexa, do you recall\n",
      "https://www.theguardian.com/technology/2019/oct/15/google-launches-che Google launches chea\n",
      "https://www.theguardian.com/technology/2019/oct/11/elizabeth-warren-fa Elizabeth Warren tro\n",
      "https://www.theguardian.com/technology/2019/oct/10/tim-cook-apple-hong Tim Cook defends App\n",
      "https://www.theguardian.com/technology/2019/oct/09/alexa-are-you-invad 'Alexa, are you inva\n",
      "https://www.theguardian.com/technology/2019/oct/08/what-does-peter-dut What does Peter Dutt\n",
      "https://www.theguardian.com/technology/2019/oct/08/us-whistleblower-th US whistleblower bla\n",
      "https://www.theguardian.com/technology/2019/oct/05/facial-recognition- 'We are hurtling tow\n",
      "https://www.theguardian.com/technology/2019/oct/03/facebook-surveillan US, UK and Australia\n",
      "https://www.theguardian.com/technology/2019/oct/03/google-data-harvest Google reportedly ta\n",
      "https://www.theguardian.com/technology/2019/oct/01/mark-zuckerberg-fac Zuckerberg: I'll 'go\n",
      "https://www.theguardian.com/technology/2019/oct/01/iphone-11-review-ip iPhone 11 review: an\n",
      "https://www.theguardian.com/technology/2019/sep/29/plan-for-massive-fa Plan for massive fac\n",
      "https://www.theguardian.com/technology/2019/sep/26/amazon-launches-ale Amazon launches Alex\n",
      "https://www.theguardian.com/technology/2019/sep/26/pulp-diction-samuel Pulp diction: Samuel\n",
      "https://www.theguardian.com/technology/2019/sep/24/firefox-no-uk-plans Firefox: 'no UK plan\n",
      "https://www.theguardian.com/technology/2019/sep/18/facebook-portal-sma Facebook to launch n\n",
      "https://www.theguardian.com/technology/2019/sep/17/tech-climate-change To decarbonize we mu\n",
      "https://www.theguardian.com/technology/2019/sep/17/imagenet-roulette-a The viral selfie app\n",
      "https://www.theguardian.com/technology/2019/sep/17/youtube-fine-and-ch YouTube’s fine and c\n",
      "https://www.theguardian.com/technology/2019/sep/13/google-facebook-ama Google, Facebook, Am\n",
      "https://www.theguardian.com/technology/askjack/2019/sep/12/can-i-still Can I still use my C\n",
      "https://www.theguardian.com/technology/2019/sep/06/facebook-google-ant US states to launch \n",
      "https://www.theguardian.com/technology/2019/sep/06/apple-rewrote-siri- Apple made Siri defl\n",
      "https://www.theguardian.com/technology/2019/sep/04/facebook-users-phon Facebook confirms 41\n",
      "https://www.theguardian.com/technology/2019/sep/04/police-use-of-facia Police use of facial\n",
      "https://www.theguardian.com/technology/2019/sep/04/a-deep-fake-app-wil A ‘deep fake’ app wi\n",
      "https://www.theguardian.com/technology/2019/sep/04/android-10-released Android 10 released:\n",
      "https://www.theguardian.com/technology/2019/aug/29/apple-apologises-li Apple apologises for\n",
      "https://www.theguardian.com/technology/2019/aug/24/alexa-nhs-future-am Does Amazon have ans\n",
      "https://www.theguardian.com/technology/2019/aug/22/apple-card-wallet-p Apple warns new cred\n",
      "https://www.theguardian.com/technology/2019/aug/18/manchester-city-fac Manchester City warn\n",
      "https://www.theguardian.com/technology/2019/aug/16/privacy-campaigners Privacy campaigners \n",
      "https://www.theguardian.com/technology/2019/aug/15/ico-opens-investiga ICO opens investigat\n",
      "https://www.theguardian.com/technology/2019/aug/13/facebook-messenger- Facebook admits cont\n",
      "https://www.theguardian.com/technology/2019/aug/13/people-at-kings-cro People at King’s Cro\n",
      "https://www.theguardian.com/technology/2019/aug/07/south-wales-police- South Wales police t\n",
      "https://www.theguardian.com/technology/2019/aug/05/alexa-allows-users- Alexa users can now \n",
      "https://www.theguardian.com/technology/2019/aug/04/facial-recognition- Facial recognition… \n",
      "https://www.theguardian.com/technology/2019/aug/04/innocence-lost-what Innocence lost: What\n",
      "https://www.theguardian.com/technology/2019/aug/02/apple-halts-practic Apple halts practice\n",
      "https://www.theguardian.com/technology/2019/jul/29/what-is-facial-reco What is facial recog\n",
      "https://www.theguardian.com/technology/2019/jul/26/apple-contractors-r Apple contractors 'r\n",
      "https://www.theguardian.com/technology/2019/jul/24/facebook-revenue-fi Facebook revenues so\n",
      "https://www.theguardian.com/technology/2019/jul/24/facebook-to-pay-5bn Facebook to pay $5bn\n",
      "https://www.theguardian.com/technology/2019/jul/24/amazon-echo-show-5- Amazon Echo Show 5 r\n",
      "https://www.theguardian.com/technology/2019/jul/23/tech-companies-anti US justice departmen\n"
     ]
    }
   ],
   "source": [
    "for result in response['results']: \n",
    "    print(result['webUrl'][:70], result['webTitle'][:20])"
   ]
  },
  {
   "cell_type": "markdown",
   "metadata": {},
   "source": [
    "Let's now request a specific piece of content from the API. \n",
    "\n",
    "We select the ith result from the above response and get its ```apiUrl``` and ```id```:"
   ]
  },
  {
   "cell_type": "code",
   "execution_count": 50,
   "metadata": {},
   "outputs": [
    {
     "name": "stdout",
     "output_type": "stream",
     "text": [
      "https://content.guardianapis.com/technology/2020/feb/04/google-software-glitch-sent-some-users-videos-to-strangers\n",
      "technology/2020/feb/04/google-software-glitch-sent-some-users-videos-to-strangers\n"
     ]
    }
   ],
   "source": [
    "i = 0\n",
    "api_url = response['results'][i]['apiUrl']\n",
    "api_id = response['results'][i]['id']\n",
    "\n",
    "print(api_url)\n",
    "print(api_id)"
   ]
  },
  {
   "cell_type": "markdown",
   "metadata": {},
   "source": [
    "We then use the ```id``` to contstruct a search url string to request this piece of content from the API.\n",
    "\n",
    "(Note that you need to include the ```api-key``` in the search, this is what I forgot in the lecture. You also need to specify if you want to include data fields other than the article metadata e.g. ```body``` and ```headline``` are included in the example below.)"
   ]
  },
  {
   "cell_type": "code",
   "execution_count": 53,
   "metadata": {},
   "outputs": [
    {
     "name": "stdout",
     "output_type": "stream",
     "text": [
      "https://content.guardianapis.com/search?ids=technology/2020/feb/04/google-software-glitch-sent-some-users-videos-to-strangers&api-key=test&show-fields=headline,body\n"
     ]
    }
   ],
   "source": [
    "base_url = \"https://content.guardianapis.com/search?\"\n",
    "search_string = \"ids=%s&api-key=test&show-fields=headline,body\" %api_id\n",
    "\n",
    "url = base_url + search_string\n",
    "print(url)"
   ]
  },
  {
   "cell_type": "code",
   "execution_count": 54,
   "metadata": {},
   "outputs": [],
   "source": [
    "req = requests.get(url) \n",
    "src = req.text"
   ]
  },
  {
   "cell_type": "code",
   "execution_count": 57,
   "metadata": {},
   "outputs": [],
   "source": [
    "response = json.loads(src)['response']\n",
    "assert response['status'] == 'ok'"
   ]
  },
  {
   "cell_type": "code",
   "execution_count": 60,
   "metadata": {},
   "outputs": [
    {
     "name": "stdout",
     "output_type": "stream",
     "text": [
      "Google software glitch sent some users' videos to strangers\n"
     ]
    }
   ],
   "source": [
    "print(response['results'][0]['fields']['headline'])"
   ]
  },
  {
   "cell_type": "code",
   "execution_count": 62,
   "metadata": {},
   "outputs": [
    {
     "name": "stdout",
     "output_type": "stream",
     "text": [
      "<p>Google has said a software bug resulted in some users’ personal videos being emailed to strangers.</p> <p>The flaw affected users of Google Photos who requested to export their data in late November. For four days the export tool wrongly added videos to unrelated users’ archives.</p> <p>As a result, private videos may have been sent to strangers, while downloaded archives may not have been complete.</p> <p>“We are notifying people about a bug that may have affected users who used Google Takeout to export their Google Photos content between November 21 and November 25,” a Google spokesperson said.</p> <p>“These users may have received either an incomplete archive, or videos – not photos – that were not theirs. We fixed the underlying issue and have conducted an in-depth analysis to help prevent this from ever happening again. We are very sorry this happened.”</p> <p>The company emphasised that the bug only affected users of Google Takeout, a download-your-data tool, and not users of Google Photos more broadly. It did not give specific numbers on how many users were affected but said it was less than 0.01% of Google Photos users.</p> <p>Google said it had self-reported to the Irish data protection commissioner, who oversees the company in the EU and has the power to levy fines of up to 4% of annual turnover for breaches of the General Data Protection Regulation.</p> <p>Javvad Malik, a security awareness advocate at KnowBe4, praised Google for the relative speed of its response but added: “While the issue was limited to videos being incorrectly shared when downloading an archive, it is a data breach and impacted the privacy of users.</p> <p>“Many users trust cloud providers, especially for photos and videos which are automatically backed up from mobile devices. It is imperative that cloud providers maintain that trust through robust security measures that allow users to restore their data, while at the same time ensuring data is kept safe from accidental or malicious leaks.”</p> <p>Google Photos offers unlimited cloud storage of images, with the trade-off that Google has access to the pictures and can use them to train its machine learning models.</p> <p>This week the company started trialling a service in North America in which users can have 10 of their photos each month chosen algorithmically and printed and posted to them for $8 (£6.15) a month.</p> <p>On Monday Google revealed its <a href=\"https://www.theguardian.com/technology/2020/feb/03/youtube-ad-revenue-google-alphabet-shares\">quarterly earnings</a> and disclosed for the first time how much revenue it makes from YouTube advertising. The video sharing site raised more than $1bn a month last year, Google said.</p>\n"
     ]
    }
   ],
   "source": [
    "body = response['results'][0]['fields']['body']\n",
    "print(body)"
   ]
  },
  {
   "cell_type": "markdown",
   "metadata": {},
   "source": [
    "We can now do some simple text processing on the article text. e.g. count the word frequnecies:"
   ]
  },
  {
   "cell_type": "code",
   "execution_count": 94,
   "metadata": {},
   "outputs": [
    {
     "name": "stdout",
     "output_type": "stream",
     "text": [
      "422\n",
      "240\n"
     ]
    }
   ],
   "source": [
    "words = body.replace('<p>','').replace('</p>','').split()\n",
    "print(len(words))\n",
    "unique_words = list(set(words))\n",
    "print(len(unique_words))\n",
    "#count_dictionary = {word: count for word, count in zip(words, [words.count(w) for w in words])}\n",
    "count_dictionary = {'word': unique_words, 'count': [words.count(w) for w in unique_words]}"
   ]
  },
  {
   "cell_type": "code",
   "execution_count": 96,
   "metadata": {},
   "outputs": [],
   "source": [
    "import pandas as pd"
   ]
  },
  {
   "cell_type": "code",
   "execution_count": 97,
   "metadata": {},
   "outputs": [
    {
     "data": {
      "text/html": [
       "<div>\n",
       "<style scoped>\n",
       "    .dataframe tbody tr th:only-of-type {\n",
       "        vertical-align: middle;\n",
       "    }\n",
       "\n",
       "    .dataframe tbody tr th {\n",
       "        vertical-align: top;\n",
       "    }\n",
       "\n",
       "    .dataframe thead th {\n",
       "        text-align: right;\n",
       "    }\n",
       "</style>\n",
       "<table border=\"1\" class=\"dataframe\">\n",
       "  <thead>\n",
       "    <tr style=\"text-align: right;\">\n",
       "      <th></th>\n",
       "      <th>word</th>\n",
       "      <th>count</th>\n",
       "    </tr>\n",
       "  </thead>\n",
       "  <tbody>\n",
       "    <tr>\n",
       "      <td>137</td>\n",
       "      <td>the</td>\n",
       "      <td>16</td>\n",
       "    </tr>\n",
       "    <tr>\n",
       "      <td>65</td>\n",
       "      <td>to</td>\n",
       "      <td>14</td>\n",
       "    </tr>\n",
       "    <tr>\n",
       "      <td>23</td>\n",
       "      <td>Google</td>\n",
       "      <td>14</td>\n",
       "    </tr>\n",
       "    <tr>\n",
       "      <td>5</td>\n",
       "      <td>of</td>\n",
       "      <td>11</td>\n",
       "    </tr>\n",
       "    <tr>\n",
       "      <td>33</td>\n",
       "      <td>a</td>\n",
       "      <td>10</td>\n",
       "    </tr>\n",
       "    <tr>\n",
       "      <td>...</td>\n",
       "      <td>...</td>\n",
       "      <td>...</td>\n",
       "    </tr>\n",
       "    <tr>\n",
       "      <td>1</td>\n",
       "      <td>again.</td>\n",
       "      <td>1</td>\n",
       "    </tr>\n",
       "    <tr>\n",
       "      <td>40</td>\n",
       "      <td>On</td>\n",
       "      <td>1</td>\n",
       "    </tr>\n",
       "    <tr>\n",
       "      <td>122</td>\n",
       "      <td>providers,</td>\n",
       "      <td>1</td>\n",
       "    </tr>\n",
       "    <tr>\n",
       "      <td>123</td>\n",
       "      <td>Malik,</td>\n",
       "      <td>1</td>\n",
       "    </tr>\n",
       "    <tr>\n",
       "      <td>120</td>\n",
       "      <td>numbers</td>\n",
       "      <td>1</td>\n",
       "    </tr>\n",
       "  </tbody>\n",
       "</table>\n",
       "<p>240 rows × 2 columns</p>\n",
       "</div>"
      ],
      "text/plain": [
       "           word  count\n",
       "137         the     16\n",
       "65           to     14\n",
       "23       Google     14\n",
       "5            of     11\n",
       "33            a     10\n",
       "..          ...    ...\n",
       "1        again.      1\n",
       "40           On      1\n",
       "122  providers,      1\n",
       "123      Malik,      1\n",
       "120     numbers      1\n",
       "\n",
       "[240 rows x 2 columns]"
      ]
     },
     "execution_count": 97,
     "metadata": {},
     "output_type": "execute_result"
    }
   ],
   "source": [
    "df = pd.DataFrame(count_dictionary)\n",
    "df.sort_values(by='count', ascending=False)"
   ]
  },
  {
   "cell_type": "markdown",
   "metadata": {},
   "source": [
    "So we have a dataframe with word occurence frequency in the article. \n",
    "\n",
    "**But** there is punctuation messing this up. For example, we see that ```again.``` appears once, as does ```providers,```.  \n",
    "\n",
    "One option to fix this would be to strip out the punctuation using Python string manipulation. But you could also use regular expressions to remove the punctuation. Below is a hacky example, but you can probably find a better solution. "
   ]
  },
  {
   "cell_type": "code",
   "execution_count": 112,
   "metadata": {},
   "outputs": [],
   "source": [
    "import re  ## imports the regular expression library\n",
    "words_wo_punctuation = re.sub(r'[^\\w\\s]','',body.replace('<p>','').replace('</p>','')).split()  "
   ]
  },
  {
   "cell_type": "markdown",
   "metadata": {},
   "source": [
    "Note that the regex ```r'[^\\w\\s]'``` substitutes anything in ```body``` that is not a word ```\\w``` or and blank space ```\\s``` with the empty string ```''```."
   ]
  },
  {
   "cell_type": "code",
   "execution_count": 113,
   "metadata": {},
   "outputs": [
    {
     "name": "stdout",
     "output_type": "stream",
     "text": [
      "225\n"
     ]
    }
   ],
   "source": [
    "unique_words = list(set(words_wo_punctuation))\n",
    "print(len(unique_words))\n",
    "count_dictionary = {'word': unique_words, 'count': [words_wo_punctuation.count(w) for w in unique_words]}"
   ]
  },
  {
   "cell_type": "code",
   "execution_count": 117,
   "metadata": {},
   "outputs": [
    {
     "data": {
      "text/html": [
       "<div>\n",
       "<style scoped>\n",
       "    .dataframe tbody tr th:only-of-type {\n",
       "        vertical-align: middle;\n",
       "    }\n",
       "\n",
       "    .dataframe tbody tr th {\n",
       "        vertical-align: top;\n",
       "    }\n",
       "\n",
       "    .dataframe thead th {\n",
       "        text-align: right;\n",
       "    }\n",
       "</style>\n",
       "<table border=\"1\" class=\"dataframe\">\n",
       "  <thead>\n",
       "    <tr style=\"text-align: right;\">\n",
       "      <th></th>\n",
       "      <th>word</th>\n",
       "      <th>count</th>\n",
       "    </tr>\n",
       "  </thead>\n",
       "  <tbody>\n",
       "    <tr>\n",
       "      <td>135</td>\n",
       "      <td>the</td>\n",
       "      <td>16</td>\n",
       "    </tr>\n",
       "    <tr>\n",
       "      <td>62</td>\n",
       "      <td>to</td>\n",
       "      <td>14</td>\n",
       "    </tr>\n",
       "    <tr>\n",
       "      <td>20</td>\n",
       "      <td>Google</td>\n",
       "      <td>14</td>\n",
       "    </tr>\n",
       "    <tr>\n",
       "      <td>196</td>\n",
       "      <td>users</td>\n",
       "      <td>13</td>\n",
       "    </tr>\n",
       "    <tr>\n",
       "      <td>3</td>\n",
       "      <td>of</td>\n",
       "      <td>11</td>\n",
       "    </tr>\n",
       "    <tr>\n",
       "      <td>...</td>\n",
       "      <td>...</td>\n",
       "      <td>...</td>\n",
       "    </tr>\n",
       "    <tr>\n",
       "      <td>89</td>\n",
       "      <td>KnowBe4</td>\n",
       "      <td>1</td>\n",
       "    </tr>\n",
       "    <tr>\n",
       "      <td>90</td>\n",
       "      <td>result</td>\n",
       "      <td>1</td>\n",
       "    </tr>\n",
       "    <tr>\n",
       "      <td>91</td>\n",
       "      <td>4</td>\n",
       "      <td>1</td>\n",
       "    </tr>\n",
       "    <tr>\n",
       "      <td>92</td>\n",
       "      <td>resulted</td>\n",
       "      <td>1</td>\n",
       "    </tr>\n",
       "    <tr>\n",
       "      <td>224</td>\n",
       "      <td>001</td>\n",
       "      <td>1</td>\n",
       "    </tr>\n",
       "  </tbody>\n",
       "</table>\n",
       "<p>225 rows × 2 columns</p>\n",
       "</div>"
      ],
      "text/plain": [
       "         word  count\n",
       "135       the     16\n",
       "62         to     14\n",
       "20     Google     14\n",
       "196     users     13\n",
       "3          of     11\n",
       "..        ...    ...\n",
       "89    KnowBe4      1\n",
       "90     result      1\n",
       "91          4      1\n",
       "92   resulted      1\n",
       "224       001      1\n",
       "\n",
       "[225 rows x 2 columns]"
      ]
     },
     "execution_count": 117,
     "metadata": {},
     "output_type": "execute_result"
    }
   ],
   "source": [
    "df = pd.DataFrame(count_dictionary)\n",
    "df.sort_values(by='count', ascending=False)"
   ]
  },
  {
   "cell_type": "code",
   "execution_count": null,
   "metadata": {},
   "outputs": [],
   "source": []
  }
 ],
 "metadata": {
  "kernelspec": {
   "display_name": "Python 3",
   "language": "python",
   "name": "python3"
  },
  "language_info": {
   "codemirror_mode": {
    "name": "ipython",
    "version": 3
   },
   "file_extension": ".py",
   "mimetype": "text/x-python",
   "name": "python",
   "nbconvert_exporter": "python",
   "pygments_lexer": "ipython3",
   "version": "3.7.4"
  }
 },
 "nbformat": 4,
 "nbformat_minor": 2
}
