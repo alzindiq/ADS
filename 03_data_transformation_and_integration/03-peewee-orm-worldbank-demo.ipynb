{
 "cells": [
  {
   "cell_type": "code",
   "execution_count": null,
   "metadata": {},
   "outputs": [],
   "source": []
  },
  {
   "cell_type": "markdown",
   "metadata": {},
   "source": [
    "# PEEWEE ORM\n",
    "\n",
    "Here I will demonstrate how to use PEEWEE ORM to get the world bank data into a database. "
   ]
  },
  {
   "cell_type": "code",
   "execution_count": 1,
   "metadata": {},
   "outputs": [],
   "source": [
    "from peewee import * \n",
    "from playhouse.postgres_ext import PostgresqlDatabase\n",
    "\n",
    "import pandas as pd\n",
    "\n",
    "from tqdm import tqdm\n",
    "from os.path import join \n",
    "\n",
    "import pandas as pd \n",
    "\n",
    "from time import sleep\n",
    "\n",
    "from IPython import display\n",
    "import matplotlib.pyplot as pl \n",
    "import seaborn as sns\n",
    "\n",
    "% matplotlib inline"
   ]
  },
  {
   "cell_type": "code",
   "execution_count": 2,
   "metadata": {},
   "outputs": [],
   "source": [
    "db = PostgresqlDatabase('ads')\n",
    "\n",
    "class BaseModel(Model):\n",
    "    class Meta:\n",
    "        database = db\n",
    "\n",
    "class Country(BaseModel): \n",
    "    id = PrimaryKeyField()\n",
    "    \n",
    "    name = CharField()\n",
    "    \n",
    "class LifeExpectancy(BaseModel):\n",
    "    id = PrimaryKeyField()\n",
    "    \n",
    "    country = ForeignKeyField(\n",
    "        Country, \n",
    "        index=True, \n",
    "        null=False, \n",
    "        related_name='life_expectancy', \n",
    "        on_delete='cascade'\n",
    "    )\n",
    "    \n",
    "    year = IntegerField(null=False)\n",
    "    value = FloatField(null=True)\n",
    "    \n",
    "class Population(BaseModel):\n",
    "    id = PrimaryKeyField()\n",
    "    \n",
    "    country = ForeignKeyField(\n",
    "        Country, \n",
    "        index=True, \n",
    "        null=False, \n",
    "        related_name='population', \n",
    "        on_delete='cascade'\n",
    "    )\n",
    "    \n",
    "    year = IntegerField(null=False)\n",
    "    value = FloatField(null=True)\n",
    "    \n",
    "class GDP(BaseModel):\n",
    "    id = PrimaryKeyField()\n",
    "    \n",
    "    country = ForeignKeyField(\n",
    "        Country, \n",
    "        index=True, \n",
    "        null=False, \n",
    "        related_name='gdp', \n",
    "        on_delete='cascade'\n",
    "    )\n",
    "    \n",
    "    year = IntegerField(null=False)\n",
    "    value = FloatField(null=True)\n",
    "    \n",
    "models = [\n",
    "    Country, \n",
    "    LifeExpectancy, \n",
    "    Population, \n",
    "    GDP, \n",
    "]"
   ]
  },
  {
   "cell_type": "code",
   "execution_count": 5,
   "metadata": {},
   "outputs": [
    {
     "data": {
      "text/plain": [
       "['CREATE TABLE \"population\" (\"id\" SERIAL NOT NULL PRIMARY KEY, \"country_id\" INTEGER NOT NULL, \"year\" INTEGER NOT NULL, \"value\" REAL, FOREIGN KEY (\"country_id\") REFERENCES \"country\" (\"id\") ON DELETE cascade)',\n",
       " 'CREATE INDEX \"population_country_id\" ON \"population\" (\"country_id\")']"
      ]
     },
     "execution_count": 5,
     "metadata": {},
     "output_type": "execute_result"
    }
   ],
   "source": [
    "Population.sqlall()"
   ]
  },
  {
   "cell_type": "code",
   "execution_count": null,
   "metadata": {
    "scrolled": false
   },
   "outputs": [],
   "source": [
    "def rearrange_dataframe(df, indicator_name):\n",
    "    country = 'Country Name'\n",
    "    years = [c for c in df.columns if c[0] == '1' or c[0] == '2']\n",
    "    df = pd.melt(df[[country] + years], id_vars=country, var_name='year')\n",
    "    df.rename(columns={'value': indicator_name}, inplace=True)\n",
    "    return df\n",
    "\n",
    "db.drop_tables(models, safe=True, cascade=True)\n",
    "db.create_tables(models, safe=True)\n",
    "\n",
    "sources = [\n",
    "    ('API_SP.DYN.LE00.IN_DS2_en_csv_v2', 'Life expectency at birth', LifeExpectancy),\n",
    "    ('API_SP.POP.TOTL_DS2_en_csv_v2',    'Total population',         Population    ),\n",
    "    ('API_NY.GDP.PCAP.CD_DS2_en_csv_v2', 'GDP per capita',           GDP           ),\n",
    "]\n",
    "\n",
    "for source, key, model in sources: \n",
    "    df = rearrange_dataframe(pd.read_csv(join(source, '{}.csv'.format(source)), skiprows=4), key)\n",
    "    \n",
    "    for ri, row in tqdm(df.iterrows()):\n",
    "        country, inserted = Country.get_or_create(name=row['Country Name'])\n",
    "        \n",
    "        model.create(\n",
    "            country=country, \n",
    "            year=int(row['year']), \n",
    "            value=row[key]\n",
    "        )\n",
    "        \n",
    "        # For faster insersion, the insert_many method may be used. "
   ]
  },
  {
   "cell_type": "code",
   "execution_count": null,
   "metadata": {},
   "outputs": [],
   "source": [
    "GDP.select().count()"
   ]
  },
  {
   "cell_type": "code",
   "execution_count": null,
   "metadata": {},
   "outputs": [],
   "source": [
    "q = GDP.select().limit(10)\n",
    "\n",
    "print(q)\n",
    "\n",
    "lq = list(q)\n",
    "print(lq)\n",
    "print(lq[0])\n",
    "print(lq[0].country.name)"
   ]
  },
  {
   "cell_type": "code",
   "execution_count": null,
   "metadata": {},
   "outputs": [],
   "source": [
    "c1 = Country.select().where(Country.id == 110).get()\n",
    "\n",
    "c1.name"
   ]
  },
  {
   "cell_type": "code",
   "execution_count": null,
   "metadata": {},
   "outputs": [],
   "source": [
    "list(c1.GDP.dicts())"
   ]
  },
  {
   "cell_type": "code",
   "execution_count": null,
   "metadata": {},
   "outputs": [],
   "source": [
    "list(Country.select(\n",
    "    Country.name, \n",
    "    GDP.year,\n",
    "    GDP.value,\n",
    "    Population.value,\n",
    ").where(\n",
    "    Country.id == 110\n",
    ").join(\n",
    "    GDP, \n",
    "    on=Country.id == GDP.country_id\n",
    ").join(\n",
    "    Population, \n",
    "    on=Population.id == GDP.country_id\n",
    ").tuples())"
   ]
  },
  {
   "cell_type": "code",
   "execution_count": null,
   "metadata": {},
   "outputs": [],
   "source": [
    "list(Country.select(\n",
    "    Country.name, \n",
    "    GDP.year,\n",
    "    GDP.value.alias('gdp'),\n",
    "    Population.value.alias('pop'),\n",
    ").where(\n",
    "    Country.id == 110\n",
    ").join(\n",
    "    GDP, \n",
    "    on=Country.id == GDP.country_id\n",
    ").join(\n",
    "    Population, \n",
    "    on=Population.id == GDP.country_id\n",
    ").dicts())"
   ]
  },
  {
   "cell_type": "code",
   "execution_count": null,
   "metadata": {
    "scrolled": false
   },
   "outputs": [],
   "source": [
    "list(Country.select(\n",
    "    Country.name, \n",
    "    GDP.year,\n",
    "    GDP.value.alias('gdp'),\n",
    "    Population.value.alias('pop'),\n",
    "    LifeExpectancy.value.alias('le'),\n",
    ").where(\n",
    "    Country.id == 110\n",
    ").join(\n",
    "    GDP, \n",
    "    on=Country.id == GDP.country_id\n",
    ").join(\n",
    "    Population, \n",
    "    on=Population.id == GDP.country_id\n",
    ").join(\n",
    "    LifeExpectancy, \n",
    "    on=LifeExpectancy.id == GDP.country_id\n",
    ").limit(10).dicts())"
   ]
  },
  {
   "cell_type": "code",
   "execution_count": null,
   "metadata": {},
   "outputs": [],
   "source": [
    "df = pd.DataFrame(list(Country.select(\n",
    "    Country.name, \n",
    "    GDP.year,\n",
    "    GDP.value.alias('gdp'),\n",
    "    Population.value.alias('pop'),\n",
    "    LifeExpectancy.value.alias('le'),\n",
    ").where(\n",
    "    Country.id == 110\n",
    ").join(\n",
    "    GDP, \n",
    "    on=Country.id == GDP.country_id\n",
    ").join(\n",
    "    Population, \n",
    "    on=Population.id == GDP.country_id\n",
    ").join(\n",
    "    LifeExpectancy, \n",
    "    on=LifeExpectancy.id == GDP.country_id\n",
    ").dicts()))\n",
    "df.set_index('year', inplace=True)\n",
    "del df['name']"
   ]
  },
  {
   "cell_type": "code",
   "execution_count": null,
   "metadata": {},
   "outputs": [],
   "source": [
    "import matplotlib.pyplot as pl \n",
    "% matplotlib inline\n",
    "\n",
    "df.plot(subplots=True)"
   ]
  },
  {
   "cell_type": "code",
   "execution_count": null,
   "metadata": {},
   "outputs": [],
   "source": [
    "df = pd.DataFrame(list(GDP.select(\n",
    "    GDP.year,\n",
    "    GDP.value.alias('gdp'),\n",
    "    Population.value.alias('pop'),\n",
    "    LifeExpectancy.value.alias('le'),\n",
    ").join(\n",
    "    Population, \n",
    "    on=(GDP.year == Population.year) & (GDP.country_id == Population.country_id)\n",
    ").join(\n",
    "    LifeExpectancy, \n",
    "    on=(GDP.year == LifeExpectancy.year) & (GDP.country_id == LifeExpectancy.country_id)\n",
    ").join(\n",
    "    Country, \n",
    "    on=GDP.country_id == Country.id\n",
    ").where(\n",
    "    Country.name == 'United Kingdom'\n",
    ").dicts()))\n",
    "\n",
    "df.set_index('year', inplace=True)\n",
    "df.head()"
   ]
  },
  {
   "cell_type": "code",
   "execution_count": null,
   "metadata": {},
   "outputs": [],
   "source": [
    "df.plot(subplots=True, figsize=(10, 10))"
   ]
  },
  {
   "cell_type": "code",
   "execution_count": null,
   "metadata": {},
   "outputs": [],
   "source": [
    "df = pd.DataFrame(list(GDP.select(\n",
    "    Country.name.alias('country'),\n",
    "    GDP.year,\n",
    "    GDP.value.alias('gdp'),\n",
    "    Population.value.alias('pop'),\n",
    "    LifeExpectancy.value.alias('le'),\n",
    ").join(\n",
    "    Population, \n",
    "    on=(GDP.year == Population.year) & (GDP.country_id == Population.country_id)\n",
    ").join(\n",
    "    LifeExpectancy, \n",
    "    on=(GDP.year == LifeExpectancy.year) & (GDP.country_id == LifeExpectancy.country_id)\n",
    ").join(\n",
    "    Country, \n",
    "    on=GDP.country_id == Country.id\n",
    ").dicts()))\n",
    "\n",
    "df.head()"
   ]
  },
  {
   "cell_type": "code",
   "execution_count": null,
   "metadata": {
    "scrolled": false
   },
   "outputs": [],
   "source": [
    "countries = {\n",
    "    'United Kingdom', \n",
    "    'France', \n",
    "    'Germany', \n",
    "}\n",
    "\n",
    "keys = ('pop', 'le', 'gdp')\n",
    "\n",
    "fig, axes = pl.subplots(3, 1, figsize=(10, 10))\n",
    "\n",
    "for country, group in df.groupby('country'): \n",
    "    if country in countries: \n",
    "        for ax, key in zip(axes, keys):\n",
    "            ax.plot(group.year, group[key], label=country)\n",
    "            \n",
    "for ax, key in zip(axes, keys): \n",
    "    pl.sca(ax)\n",
    "    pl.title(key)\n",
    "    pl.legend()"
   ]
  },
  {
   "cell_type": "code",
   "execution_count": null,
   "metadata": {},
   "outputs": [],
   "source": []
  },
  {
   "cell_type": "raw",
   "metadata": {},
   "source": [
    "df.year.describe()"
   ]
  },
  {
   "cell_type": "code",
   "execution_count": null,
   "metadata": {
    "scrolled": false
   },
   "outputs": [],
   "source": [
    "def pw_scatter(df, year):\n",
    "    current_palette = sns.color_palette()\n",
    "    alpha = 0.25\n",
    "    for i, c in enumerate(countries):\n",
    "        country = Country.select().where(Country.name == c).get()\n",
    "        gdp = GDP.select().where(GDP.country_id == country, GDP.year == year).get()\n",
    "        pop = Population.select().where(Population.country_id == country, Population.year == year).get()\n",
    "        le = LifeExpectancy.select().where(LifeExpectancy.country_id == country, LifeExpectancy.year == year).get()\n",
    "        ax.plot(gdp.value, le.value, marker='o', linestyle='', color=current_palette[i], ms=pop.value / 2.5e6, label=c, alpha=alpha)\n",
    "    ax.set_xlabel(x)\n",
    "    ax.set_ylabel(y)\n",
    "    ax.set_xlim([0, df[x].max()])\n",
    "    ax.set_ylim([df[y].min()*0.9, df[y].max()*1.1])\n",
    "    ax.set_title(year)\n",
    "\n",
    "# Animated version\n",
    "fig, ax = pl.subplots(figsize=[15 ,10])\n",
    "countries = ['United Kingdom', 'France', 'Germany']\n",
    "\n",
    "for year in range(1960, 2017):\n",
    "    pw_scatter(df_selected, year)\n",
    "\n",
    "    if do_legend:\n",
    "        lgnd = ax.legend()\n",
    "        for i in range(len(countries)):\n",
    "            lgnd.legendHandles[i]._legmarker.set_markersize(20)\n",
    "            lgnd.legendHandles[i]._legmarker.set_alpha(1.0)\n",
    "        do_legend = False\n",
    "\n",
    "    display.clear_output(wait=True)\n",
    "    display.display(pl.gcf())\n",
    "    sleep(0.05)"
   ]
  },
  {
   "cell_type": "code",
   "execution_count": null,
   "metadata": {},
   "outputs": [],
   "source": []
  },
  {
   "cell_type": "code",
   "execution_count": null,
   "metadata": {},
   "outputs": [],
   "source": []
  },
  {
   "cell_type": "code",
   "execution_count": null,
   "metadata": {},
   "outputs": [],
   "source": []
  },
  {
   "cell_type": "code",
   "execution_count": null,
   "metadata": {},
   "outputs": [],
   "source": []
  },
  {
   "cell_type": "code",
   "execution_count": null,
   "metadata": {},
   "outputs": [],
   "source": []
  },
  {
   "cell_type": "code",
   "execution_count": null,
   "metadata": {},
   "outputs": [],
   "source": []
  },
  {
   "cell_type": "code",
   "execution_count": null,
   "metadata": {},
   "outputs": [],
   "source": []
  },
  {
   "cell_type": "code",
   "execution_count": null,
   "metadata": {},
   "outputs": [],
   "source": []
  },
  {
   "cell_type": "code",
   "execution_count": null,
   "metadata": {},
   "outputs": [],
   "source": []
  },
  {
   "cell_type": "code",
   "execution_count": null,
   "metadata": {},
   "outputs": [],
   "source": []
  },
  {
   "cell_type": "code",
   "execution_count": null,
   "metadata": {},
   "outputs": [],
   "source": []
  },
  {
   "cell_type": "code",
   "execution_count": null,
   "metadata": {},
   "outputs": [],
   "source": []
  },
  {
   "cell_type": "code",
   "execution_count": null,
   "metadata": {},
   "outputs": [],
   "source": []
  },
  {
   "cell_type": "code",
   "execution_count": null,
   "metadata": {},
   "outputs": [],
   "source": []
  },
  {
   "cell_type": "code",
   "execution_count": null,
   "metadata": {},
   "outputs": [],
   "source": []
  },
  {
   "cell_type": "code",
   "execution_count": null,
   "metadata": {},
   "outputs": [],
   "source": []
  },
  {
   "cell_type": "code",
   "execution_count": null,
   "metadata": {},
   "outputs": [],
   "source": []
  },
  {
   "cell_type": "code",
   "execution_count": null,
   "metadata": {},
   "outputs": [],
   "source": []
  },
  {
   "cell_type": "code",
   "execution_count": null,
   "metadata": {},
   "outputs": [],
   "source": []
  },
  {
   "cell_type": "code",
   "execution_count": null,
   "metadata": {},
   "outputs": [],
   "source": []
  },
  {
   "cell_type": "code",
   "execution_count": null,
   "metadata": {},
   "outputs": [],
   "source": []
  },
  {
   "cell_type": "code",
   "execution_count": null,
   "metadata": {},
   "outputs": [],
   "source": []
  },
  {
   "cell_type": "code",
   "execution_count": null,
   "metadata": {},
   "outputs": [],
   "source": []
  },
  {
   "cell_type": "code",
   "execution_count": null,
   "metadata": {},
   "outputs": [],
   "source": []
  },
  {
   "cell_type": "code",
   "execution_count": null,
   "metadata": {},
   "outputs": [],
   "source": []
  }
 ],
 "metadata": {
  "kernelspec": {
   "display_name": "Python 3",
   "language": "python",
   "name": "python3"
  },
  "language_info": {
   "codemirror_mode": {
    "name": "ipython",
    "version": 3
   },
   "file_extension": ".py",
   "mimetype": "text/x-python",
   "name": "python",
   "nbconvert_exporter": "python",
   "pygments_lexer": "ipython3",
   "version": "3.6.3"
  }
 },
 "nbformat": 4,
 "nbformat_minor": 2
}
